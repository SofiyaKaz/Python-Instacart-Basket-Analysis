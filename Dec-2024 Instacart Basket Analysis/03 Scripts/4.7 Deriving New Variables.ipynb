{
 "cells": [
  {
   "cell_type": "code",
   "execution_count": 1,
   "id": "3a984906-a9ef-4daa-88e5-3041757de228",
   "metadata": {},
   "outputs": [],
   "source": [
    "# import libraries\n",
    "import pandas as pd\n",
    "import numpy as np\n",
    "import os"
   ]
  },
  {
   "cell_type": "code",
   "execution_count": 2,
   "id": "1ec3fdc1-9f65-4be5-9708-75a2f62184be",
   "metadata": {},
   "outputs": [],
   "source": [
    "path=r'/Users/sofiakazeko/Jupiter/Dec-2024 Instacart Basket Analysis'"
   ]
  },
  {
   "cell_type": "code",
   "execution_count": 3,
   "id": "11bd9bc8-88b6-4307-8baf-dd592854d86a",
   "metadata": {},
   "outputs": [],
   "source": [
    "#3 import the df_ords_prods_merge\n",
    "df_ords_prods_merge= pd.read_pickle(os.path.join(path, '02 Data', 'Prepared Data', 'df_ords_prods_merge.pkl'))"
   ]
  },
  {
   "cell_type": "code",
   "execution_count": 5,
   "id": "686fa0f8-fd14-4f82-8de2-6bcac301dc29",
   "metadata": {},
   "outputs": [],
   "source": [
    "df = df_ords_prods_merge[:1000000]"
   ]
  },
  {
   "cell_type": "code",
   "execution_count": 10,
   "id": "ee260fe8-e9f7-4aa5-bb7f-bea113403fe4",
   "metadata": {},
   "outputs": [
    {
     "data": {
      "text/plain": [
       "(1000000, 19)"
      ]
     },
     "execution_count": 10,
     "metadata": {},
     "output_type": "execute_result"
    }
   ],
   "source": [
    "df.shape"
   ]
  },
  {
   "cell_type": "code",
   "execution_count": 11,
   "id": "f40860b1-acdf-4da0-ab84-4e655bc8773d",
   "metadata": {},
   "outputs": [
    {
     "data": {
      "text/html": [
       "<div>\n",
       "<style scoped>\n",
       "    .dataframe tbody tr th:only-of-type {\n",
       "        vertical-align: middle;\n",
       "    }\n",
       "\n",
       "    .dataframe tbody tr th {\n",
       "        vertical-align: top;\n",
       "    }\n",
       "\n",
       "    .dataframe thead th {\n",
       "        text-align: right;\n",
       "    }\n",
       "</style>\n",
       "<table border=\"1\" class=\"dataframe\">\n",
       "  <thead>\n",
       "    <tr style=\"text-align: right;\">\n",
       "      <th></th>\n",
       "      <th>Unnamed: 0_x</th>\n",
       "      <th>order_id</th>\n",
       "      <th>user_id</th>\n",
       "      <th>order_number</th>\n",
       "      <th>orders_day_of_week</th>\n",
       "      <th>order_time</th>\n",
       "      <th>days_since_prior_order</th>\n",
       "      <th>new_customer</th>\n",
       "      <th>product_id</th>\n",
       "      <th>add_to_cart_order</th>\n",
       "      <th>reordered</th>\n",
       "      <th>_merge</th>\n",
       "      <th>Unnamed: 0_y</th>\n",
       "      <th>product_name</th>\n",
       "      <th>aisle_id</th>\n",
       "      <th>department_id</th>\n",
       "      <th>prices</th>\n",
       "      <th>merge_2</th>\n",
       "      <th>price_range</th>\n",
       "    </tr>\n",
       "  </thead>\n",
       "  <tbody>\n",
       "    <tr>\n",
       "      <th>0</th>\n",
       "      <td>0</td>\n",
       "      <td>2539329</td>\n",
       "      <td>1</td>\n",
       "      <td>1</td>\n",
       "      <td>2</td>\n",
       "      <td>8</td>\n",
       "      <td>NaN</td>\n",
       "      <td>True</td>\n",
       "      <td>196</td>\n",
       "      <td>1</td>\n",
       "      <td>0</td>\n",
       "      <td>both</td>\n",
       "      <td>195</td>\n",
       "      <td>Soda</td>\n",
       "      <td>77</td>\n",
       "      <td>7</td>\n",
       "      <td>9.0</td>\n",
       "      <td>both</td>\n",
       "      <td>Mid-range product</td>\n",
       "    </tr>\n",
       "    <tr>\n",
       "      <th>1</th>\n",
       "      <td>0</td>\n",
       "      <td>2539329</td>\n",
       "      <td>1</td>\n",
       "      <td>1</td>\n",
       "      <td>2</td>\n",
       "      <td>8</td>\n",
       "      <td>NaN</td>\n",
       "      <td>True</td>\n",
       "      <td>14084</td>\n",
       "      <td>2</td>\n",
       "      <td>0</td>\n",
       "      <td>both</td>\n",
       "      <td>14084</td>\n",
       "      <td>Organic Unsweetened Vanilla Almond Milk</td>\n",
       "      <td>91</td>\n",
       "      <td>16</td>\n",
       "      <td>12.5</td>\n",
       "      <td>both</td>\n",
       "      <td>Mid-range product</td>\n",
       "    </tr>\n",
       "    <tr>\n",
       "      <th>2</th>\n",
       "      <td>0</td>\n",
       "      <td>2539329</td>\n",
       "      <td>1</td>\n",
       "      <td>1</td>\n",
       "      <td>2</td>\n",
       "      <td>8</td>\n",
       "      <td>NaN</td>\n",
       "      <td>True</td>\n",
       "      <td>12427</td>\n",
       "      <td>3</td>\n",
       "      <td>0</td>\n",
       "      <td>both</td>\n",
       "      <td>12427</td>\n",
       "      <td>Original Beef Jerky</td>\n",
       "      <td>23</td>\n",
       "      <td>19</td>\n",
       "      <td>4.4</td>\n",
       "      <td>both</td>\n",
       "      <td>Low-range product</td>\n",
       "    </tr>\n",
       "    <tr>\n",
       "      <th>3</th>\n",
       "      <td>0</td>\n",
       "      <td>2539329</td>\n",
       "      <td>1</td>\n",
       "      <td>1</td>\n",
       "      <td>2</td>\n",
       "      <td>8</td>\n",
       "      <td>NaN</td>\n",
       "      <td>True</td>\n",
       "      <td>26088</td>\n",
       "      <td>4</td>\n",
       "      <td>0</td>\n",
       "      <td>both</td>\n",
       "      <td>26089</td>\n",
       "      <td>Aged White Cheddar Popcorn</td>\n",
       "      <td>23</td>\n",
       "      <td>19</td>\n",
       "      <td>4.7</td>\n",
       "      <td>both</td>\n",
       "      <td>Low-range product</td>\n",
       "    </tr>\n",
       "    <tr>\n",
       "      <th>4</th>\n",
       "      <td>0</td>\n",
       "      <td>2539329</td>\n",
       "      <td>1</td>\n",
       "      <td>1</td>\n",
       "      <td>2</td>\n",
       "      <td>8</td>\n",
       "      <td>NaN</td>\n",
       "      <td>True</td>\n",
       "      <td>26405</td>\n",
       "      <td>5</td>\n",
       "      <td>0</td>\n",
       "      <td>both</td>\n",
       "      <td>26406</td>\n",
       "      <td>XL Pick-A-Size Paper Towel Rolls</td>\n",
       "      <td>54</td>\n",
       "      <td>17</td>\n",
       "      <td>1.0</td>\n",
       "      <td>both</td>\n",
       "      <td>Low-range product</td>\n",
       "    </tr>\n",
       "  </tbody>\n",
       "</table>\n",
       "</div>"
      ],
      "text/plain": [
       "   Unnamed: 0_x  order_id  user_id  order_number  orders_day_of_week  \\\n",
       "0             0   2539329        1             1                   2   \n",
       "1             0   2539329        1             1                   2   \n",
       "2             0   2539329        1             1                   2   \n",
       "3             0   2539329        1             1                   2   \n",
       "4             0   2539329        1             1                   2   \n",
       "\n",
       "   order_time  days_since_prior_order  new_customer  product_id  \\\n",
       "0           8                     NaN          True         196   \n",
       "1           8                     NaN          True       14084   \n",
       "2           8                     NaN          True       12427   \n",
       "3           8                     NaN          True       26088   \n",
       "4           8                     NaN          True       26405   \n",
       "\n",
       "   add_to_cart_order  reordered _merge  Unnamed: 0_y  \\\n",
       "0                  1          0   both           195   \n",
       "1                  2          0   both         14084   \n",
       "2                  3          0   both         12427   \n",
       "3                  4          0   both         26089   \n",
       "4                  5          0   both         26406   \n",
       "\n",
       "                              product_name  aisle_id  department_id  prices  \\\n",
       "0                                     Soda        77              7     9.0   \n",
       "1  Organic Unsweetened Vanilla Almond Milk        91             16    12.5   \n",
       "2                      Original Beef Jerky        23             19     4.4   \n",
       "3               Aged White Cheddar Popcorn        23             19     4.7   \n",
       "4         XL Pick-A-Size Paper Towel Rolls        54             17     1.0   \n",
       "\n",
       "  merge_2        price_range  \n",
       "0    both  Mid-range product  \n",
       "1    both  Mid-range product  \n",
       "2    both  Low-range product  \n",
       "3    both  Low-range product  \n",
       "4    both  Low-range product  "
      ]
     },
     "execution_count": 11,
     "metadata": {},
     "output_type": "execute_result"
    }
   ],
   "source": [
    "df.head()"
   ]
  },
  {
   "cell_type": "code",
   "execution_count": 6,
   "id": "c032a1a6-2ad2-421f-b040-9f2947cbd593",
   "metadata": {},
   "outputs": [],
   "source": [
    "def price_label(row):\n",
    "\n",
    "  if row['prices'] <= 5:\n",
    "    return 'Low-range product'\n",
    "  elif (row['prices'] > 5) and (row['prices'] <= 15):\n",
    "    return 'Mid-range product'\n",
    "  elif row['prices'] > 15:\n",
    "    return 'High range'\n",
    "  else: return 'Not enough data'"
   ]
  },
  {
   "cell_type": "code",
   "execution_count": 7,
   "id": "a49b3c93-babe-4141-8db8-50e1496558dd",
   "metadata": {},
   "outputs": [
    {
     "name": "stderr",
     "output_type": "stream",
     "text": [
      "/var/folders/rs/zynz_jf95m96kh0kp832ghnr0000gn/T/ipykernel_70482/2848743372.py:1: SettingWithCopyWarning: \n",
      "A value is trying to be set on a copy of a slice from a DataFrame.\n",
      "Try using .loc[row_indexer,col_indexer] = value instead\n",
      "\n",
      "See the caveats in the documentation: https://pandas.pydata.org/pandas-docs/stable/user_guide/indexing.html#returning-a-view-versus-a-copy\n",
      "  df['price_range'] = df.apply(price_label, axis=1)\n"
     ]
    }
   ],
   "source": [
    "df['price_range'] = df.apply(price_label, axis=1)"
   ]
  },
  {
   "cell_type": "code",
   "execution_count": 8,
   "id": "f4805c0b-69f8-4a66-82ca-2c93b2b439f2",
   "metadata": {},
   "outputs": [
    {
     "data": {
      "text/plain": [
       "price_range\n",
       "Mid-range product    673183\n",
       "Low-range product    314392\n",
       "High range            12425\n",
       "Name: count, dtype: int64"
      ]
     },
     "execution_count": 8,
     "metadata": {},
     "output_type": "execute_result"
    }
   ],
   "source": [
    "df['price_range'].value_counts(dropna=False)"
   ]
  },
  {
   "cell_type": "code",
   "execution_count": 9,
   "id": "97bfd7d0-4702-4e35-8418-e48afdb6f355",
   "metadata": {},
   "outputs": [
    {
     "data": {
      "text/plain": [
       "99999.0"
      ]
     },
     "execution_count": 9,
     "metadata": {},
     "output_type": "execute_result"
    }
   ],
   "source": [
    "df['prices'].max()"
   ]
  },
  {
   "cell_type": "code",
   "execution_count": 12,
   "id": "ea876dd6-e730-4bc6-b0fd-15510809fdb9",
   "metadata": {},
   "outputs": [
    {
     "name": "stderr",
     "output_type": "stream",
     "text": [
      "/var/folders/rs/zynz_jf95m96kh0kp832ghnr0000gn/T/ipykernel_70482/1169838859.py:1: SettingWithCopyWarning: \n",
      "A value is trying to be set on a copy of a slice from a DataFrame.\n",
      "Try using .loc[row_indexer,col_indexer] = value instead\n",
      "\n",
      "See the caveats in the documentation: https://pandas.pydata.org/pandas-docs/stable/user_guide/indexing.html#returning-a-view-versus-a-copy\n",
      "  df.loc[df['prices'] > 15, 'price_range_loc'] = 'High-range product'\n"
     ]
    }
   ],
   "source": [
    "df.loc[df['prices'] > 15, 'price_range_loc'] = 'High-range product'"
   ]
  },
  {
   "cell_type": "code",
   "execution_count": 13,
   "id": "39a17e22-291e-423f-b800-1ec85fbd924a",
   "metadata": {},
   "outputs": [],
   "source": [
    "df.loc[(df['prices'] <= 15) & (df['prices'] > 5), 'price_range_loc'] = 'Mid-range product' "
   ]
  },
  {
   "cell_type": "code",
   "execution_count": 14,
   "id": "d9456227-8f7b-4b04-b6a2-96088f325057",
   "metadata": {},
   "outputs": [],
   "source": [
    "df.loc[df['prices'] <= 5, 'price_range_loc'] = 'Low-range product'"
   ]
  },
  {
   "cell_type": "code",
   "execution_count": 16,
   "id": "328fc988-d0cb-4786-b104-80d0fc3c8e3a",
   "metadata": {},
   "outputs": [
    {
     "data": {
      "text/plain": [
       "price_range_loc\n",
       "Mid-range product     673183\n",
       "Low-range product     314392\n",
       "High-range product     12425\n",
       "Name: count, dtype: int64"
      ]
     },
     "execution_count": 16,
     "metadata": {},
     "output_type": "execute_result"
    }
   ],
   "source": [
    "df['price_range_loc'].value_counts(dropna=False)"
   ]
  },
  {
   "cell_type": "code",
   "execution_count": 17,
   "id": "af8662d2-ead4-4cfe-a860-5023ae3a9a66",
   "metadata": {},
   "outputs": [],
   "source": [
    "df_ords_prods_merge.loc[df_ords_prods_merge['prices'] > 15, 'price_range_loc'] = 'High-range product'"
   ]
  },
  {
   "cell_type": "code",
   "execution_count": 18,
   "id": "969a0c1c-7f9f-451b-8c48-70b6cd030803",
   "metadata": {},
   "outputs": [],
   "source": [
    "df_ords_prods_merge.loc[(df_ords_prods_merge['prices'] <= 15) & (df_ords_prods_merge['prices'] > 5), 'price_range_loc'] = 'Mid-range product' "
   ]
  },
  {
   "cell_type": "code",
   "execution_count": 19,
   "id": "bb206ccc-7a74-410d-b83d-6a411c7270d1",
   "metadata": {},
   "outputs": [],
   "source": [
    "df_ords_prods_merge.loc[df_ords_prods_merge['prices'] <= 5, 'price_range_loc'] = 'Low-range product'"
   ]
  },
  {
   "cell_type": "code",
   "execution_count": 20,
   "id": "78a4b160-35f8-4eed-a9c3-0f8b0b21a517",
   "metadata": {},
   "outputs": [
    {
     "data": {
      "text/plain": [
       "price_range_loc\n",
       "Mid-range product     21860860\n",
       "Low-range product     10126321\n",
       "High-range product      417678\n",
       "Name: count, dtype: int64"
      ]
     },
     "execution_count": 20,
     "metadata": {},
     "output_type": "execute_result"
    }
   ],
   "source": [
    "df_ords_prods_merge['price_range_loc'].value_counts(dropna=False)"
   ]
  },
  {
   "cell_type": "code",
   "execution_count": 21,
   "id": "c5904a0d-8ac4-4505-8402-fb41631a69c2",
   "metadata": {},
   "outputs": [
    {
     "data": {
      "text/plain": [
       "orders_day_of_week\n",
       "0    6204182\n",
       "1    5660230\n",
       "6    4496490\n",
       "2    4213830\n",
       "5    4205791\n",
       "3    3840534\n",
       "4    3783802\n",
       "Name: count, dtype: int64"
      ]
     },
     "execution_count": 21,
     "metadata": {},
     "output_type": "execute_result"
    }
   ],
   "source": [
    "# printing the frequency of the “orders_day_of_week”\n",
    "df_ords_prods_merge['orders_day_of_week'].value_counts(dropna=False)"
   ]
  },
  {
   "cell_type": "code",
   "execution_count": 22,
   "id": "7550715b-ea24-4e6c-8834-322866b4894b",
   "metadata": {},
   "outputs": [],
   "source": [
    "result = []\n",
    "\n",
    "for value in df_ords_prods_merge[\"orders_day_of_week\"]:\n",
    "  if value == 0:\n",
    "    result.append(\"Busiest day\")\n",
    "  elif value == 4:\n",
    "    result.append(\"Least busy\")\n",
    "  else:\n",
    "    result.append(\"Regularly busy\")"
   ]
  },
  {
   "cell_type": "code",
   "execution_count": 24,
   "id": "609d5537-29fe-433d-b6e3-97f3b1ea25ca",
   "metadata": {},
   "outputs": [],
   "source": [
    "df_ords_prods_merge ['busiest_day']= result"
   ]
  },
  {
   "cell_type": "code",
   "execution_count": 25,
   "id": "1406b444-f179-4d4e-a966-54dc70fef1fc",
   "metadata": {},
   "outputs": [
    {
     "data": {
      "text/plain": [
       "busiest_day\n",
       "Regularly busy    22416875\n",
       "Busiest day        6204182\n",
       "Least busy         3783802\n",
       "Name: count, dtype: int64"
      ]
     },
     "execution_count": 25,
     "metadata": {},
     "output_type": "execute_result"
    }
   ],
   "source": [
    "df_ords_prods_merge ['busiest_day'].value_counts(dropna=False)"
   ]
  },
  {
   "cell_type": "markdown",
   "id": "6ac738a1-512b-439f-ad98-64bb458e32d8",
   "metadata": {},
   "source": [
    "# Tasks \n",
    "\n",
    "2. create a new column showing 2 busiest days and 2 least busy days"
   ]
  },
  {
   "cell_type": "code",
   "execution_count": 26,
   "id": "6b556190-4034-46a7-a705-bd225fc31760",
   "metadata": {},
   "outputs": [],
   "source": [
    "# Create a new column using .loc \n",
    "df_ords_prods_merge['busiest_day'] = \"Regularly busy\""
   ]
  },
  {
   "cell_type": "code",
   "execution_count": 27,
   "id": "cf2f751a-e643-47f1-bb23-8a1e1cc42c36",
   "metadata": {},
   "outputs": [],
   "source": [
    "df_ords_prods_merge.loc[df_ords_prods_merge['orders_day_of_week'].isin([0, 1]), 'busiest_day'] = \"Busiest day\""
   ]
  },
  {
   "cell_type": "code",
   "execution_count": 28,
   "id": "a88021a5-0eaf-4e35-a149-fd6ea9b6f801",
   "metadata": {},
   "outputs": [],
   "source": [
    "df_ords_prods_merge.loc[df_ords_prods_merge['orders_day_of_week'].isin([3, 4]), 'busiest_day'] = \"Least busy\""
   ]
  },
  {
   "cell_type": "code",
   "execution_count": 29,
   "id": "6770045d-f326-4ea6-a936-29b36b312e09",
   "metadata": {},
   "outputs": [
    {
     "name": "stdout",
     "output_type": "stream",
     "text": [
      "          orders_day_of_week     busiest_day\n",
      "0                          2  Regularly busy\n",
      "1                          2  Regularly busy\n",
      "2                          2  Regularly busy\n",
      "3                          2  Regularly busy\n",
      "4                          2  Regularly busy\n",
      "...                      ...             ...\n",
      "32404854                   1     Busiest day\n",
      "32404855                   1     Busiest day\n",
      "32404856                   1     Busiest day\n",
      "32404857                   1     Busiest day\n",
      "32404858                   1     Busiest day\n",
      "\n",
      "[32404859 rows x 2 columns]\n"
     ]
    }
   ],
   "source": [
    "print(df_ords_prods_merge[['orders_day_of_week', 'busiest_day']])"
   ]
  },
  {
   "cell_type": "code",
   "execution_count": 30,
   "id": "1ccbd3f2-7515-47af-8c0e-bcb41e5bfbd1",
   "metadata": {},
   "outputs": [
    {
     "data": {
      "text/plain": [
       "busiest_day\n",
       "Regularly busy    12916111\n",
       "Busiest day       11864412\n",
       "Least busy         7624336\n",
       "Name: count, dtype: int64"
      ]
     },
     "execution_count": 30,
     "metadata": {},
     "output_type": "execute_result"
    }
   ],
   "source": [
    "df_ords_prods_merge ['busiest_day'].value_counts(dropna=False)"
   ]
  },
  {
   "cell_type": "markdown",
   "id": "09668d4b-8df8-405f-bbe7-9f714601b815",
   "metadata": {},
   "source": [
    "# Observations:\n",
    "The busiest_day column is correctly labeled based on the orders_day_of_week and frequency results.\n",
    "\"Busiest day\" is assigned to Sunday (0) and Monday (1).\n",
    "\"Least busy\" is assigned to Wednesday (3) and Thursday (4).\n",
    "Other days are labeled as \"Regularly busy\".\n",
    "The labels are consistent and there are no errors."
   ]
  },
  {
   "cell_type": "code",
   "execution_count": 31,
   "id": "e9b1e533-8b48-4b50-9951-cdde24504f92",
   "metadata": {},
   "outputs": [
    {
     "data": {
      "text/plain": [
       "order_time\n",
       "10    2761760\n",
       "11    2736140\n",
       "14    2689136\n",
       "15    2662144\n",
       "13    2660954\n",
       "12    2618532\n",
       "16    2535202\n",
       "9     2454203\n",
       "17    2087654\n",
       "8     1718118\n",
       "18    1636502\n",
       "19    1258305\n",
       "20     976156\n",
       "7      891054\n",
       "21     795637\n",
       "22     634225\n",
       "23     402316\n",
       "6      290493\n",
       "0      218769\n",
       "1      115700\n",
       "5       87961\n",
       "2       69375\n",
       "4       53242\n",
       "3       51281\n",
       "Name: count, dtype: int64"
      ]
     },
     "execution_count": 31,
     "metadata": {},
     "output_type": "execute_result"
    }
   ],
   "source": [
    "df_ords_prods_merge ['order_time'].value_counts(dropna=False)"
   ]
  },
  {
   "cell_type": "markdown",
   "id": "2eb187db-a8e2-4a06-b907-1ebbc136a3c2",
   "metadata": {},
   "source": [
    "# Task 4 Create a new column called “busiest_period_of_day.”  identify the busiest hours of the day labeled “Most orders,” “Average orders,” and “Fewest orders.” "
   ]
  },
  {
   "cell_type": "code",
   "execution_count": 33,
   "id": "0a71d194-1251-4f7d-a029-9a0626611a1b",
   "metadata": {},
   "outputs": [],
   "source": [
    "# Create a new column 'busiest_period_of_day' with default value\n",
    "df_ords_prods_merge['busiest_period_of_day'] = 'Average orders'"
   ]
  },
  {
   "cell_type": "code",
   "execution_count": 37,
   "id": "55c646f6-3aaa-4e7a-a3f5-1d491623700a",
   "metadata": {},
   "outputs": [],
   "source": [
    "df_ords_prods_merge.loc[df_ords_prods_merge['order_time'].isin([10, 11,14,15,13,12,16,9,17]), 'busiest_period_of_day'] = 'Most orders'"
   ]
  },
  {
   "cell_type": "code",
   "execution_count": 38,
   "id": "6c1cf74d-1468-4f28-93f4-e958cd6c2487",
   "metadata": {},
   "outputs": [],
   "source": [
    "df_ords_prods_merge.loc[df_ords_prods_merge['order_time'].isin([3,4,2,5,1,0,6]), 'busiest_period_of_day'] = 'Fewest orders'"
   ]
  },
  {
   "cell_type": "code",
   "execution_count": 39,
   "id": "438bd68e-65dc-49df-bef0-91de67c47567",
   "metadata": {},
   "outputs": [
    {
     "name": "stdout",
     "output_type": "stream",
     "text": [
      "          order_time busiest_period_of_day\n",
      "0                  8        Average orders\n",
      "1                  8        Average orders\n",
      "2                  8        Average orders\n",
      "3                  8        Average orders\n",
      "4                  8        Average orders\n",
      "...              ...                   ...\n",
      "32404854          12           Most orders\n",
      "32404855          12           Most orders\n",
      "32404856          12           Most orders\n",
      "32404857          12           Most orders\n",
      "32404858          12           Most orders\n",
      "\n",
      "[32404859 rows x 2 columns]\n"
     ]
    }
   ],
   "source": [
    "print(df_ords_prods_merge[['order_time', 'busiest_period_of_day']])"
   ]
  },
  {
   "cell_type": "code",
   "execution_count": 40,
   "id": "b1b2c264-65c0-404b-bd7b-791f91f54c34",
   "metadata": {},
   "outputs": [
    {
     "data": {
      "text/plain": [
       "busiest_period_of_day\n",
       "Most orders       23205725\n",
       "Average orders     8312313\n",
       "Fewest orders       886821\n",
       "Name: count, dtype: int64"
      ]
     },
     "execution_count": 40,
     "metadata": {},
     "output_type": "execute_result"
    }
   ],
   "source": [
    "df_ords_prods_merge ['busiest_period_of_day'].value_counts(dropna=False)"
   ]
  },
  {
   "cell_type": "markdown",
   "id": "79b661d6-bdaa-44f8-939d-148cba53b80e",
   "metadata": {},
   "source": [
    "# Comments\n",
    "I divided the busiest_period_of_day in 3 groups (order_time_counts < 300000, > 300000 and < 2000000, and > 2000000)"
   ]
  },
  {
   "cell_type": "code",
   "execution_count": 41,
   "id": "030d233e-1e53-4a7e-894c-41d231f38a3f",
   "metadata": {},
   "outputs": [
    {
     "data": {
      "text/html": [
       "<div>\n",
       "<style scoped>\n",
       "    .dataframe tbody tr th:only-of-type {\n",
       "        vertical-align: middle;\n",
       "    }\n",
       "\n",
       "    .dataframe tbody tr th {\n",
       "        vertical-align: top;\n",
       "    }\n",
       "\n",
       "    .dataframe thead th {\n",
       "        text-align: right;\n",
       "    }\n",
       "</style>\n",
       "<table border=\"1\" class=\"dataframe\">\n",
       "  <thead>\n",
       "    <tr style=\"text-align: right;\">\n",
       "      <th></th>\n",
       "      <th>Unnamed: 0_x</th>\n",
       "      <th>order_id</th>\n",
       "      <th>user_id</th>\n",
       "      <th>order_number</th>\n",
       "      <th>orders_day_of_week</th>\n",
       "      <th>order_time</th>\n",
       "      <th>days_since_prior_order</th>\n",
       "      <th>new_customer</th>\n",
       "      <th>product_id</th>\n",
       "      <th>add_to_cart_order</th>\n",
       "      <th>...</th>\n",
       "      <th>_merge</th>\n",
       "      <th>Unnamed: 0_y</th>\n",
       "      <th>product_name</th>\n",
       "      <th>aisle_id</th>\n",
       "      <th>department_id</th>\n",
       "      <th>prices</th>\n",
       "      <th>merge_2</th>\n",
       "      <th>price_range_loc</th>\n",
       "      <th>busiest_day</th>\n",
       "      <th>busiest_period_of_day</th>\n",
       "    </tr>\n",
       "  </thead>\n",
       "  <tbody>\n",
       "    <tr>\n",
       "      <th>0</th>\n",
       "      <td>0</td>\n",
       "      <td>2539329</td>\n",
       "      <td>1</td>\n",
       "      <td>1</td>\n",
       "      <td>2</td>\n",
       "      <td>8</td>\n",
       "      <td>NaN</td>\n",
       "      <td>True</td>\n",
       "      <td>196</td>\n",
       "      <td>1</td>\n",
       "      <td>...</td>\n",
       "      <td>both</td>\n",
       "      <td>195</td>\n",
       "      <td>Soda</td>\n",
       "      <td>77</td>\n",
       "      <td>7</td>\n",
       "      <td>9.0</td>\n",
       "      <td>both</td>\n",
       "      <td>Mid-range product</td>\n",
       "      <td>Regularly busy</td>\n",
       "      <td>Average orders</td>\n",
       "    </tr>\n",
       "    <tr>\n",
       "      <th>1</th>\n",
       "      <td>0</td>\n",
       "      <td>2539329</td>\n",
       "      <td>1</td>\n",
       "      <td>1</td>\n",
       "      <td>2</td>\n",
       "      <td>8</td>\n",
       "      <td>NaN</td>\n",
       "      <td>True</td>\n",
       "      <td>14084</td>\n",
       "      <td>2</td>\n",
       "      <td>...</td>\n",
       "      <td>both</td>\n",
       "      <td>14084</td>\n",
       "      <td>Organic Unsweetened Vanilla Almond Milk</td>\n",
       "      <td>91</td>\n",
       "      <td>16</td>\n",
       "      <td>12.5</td>\n",
       "      <td>both</td>\n",
       "      <td>Mid-range product</td>\n",
       "      <td>Regularly busy</td>\n",
       "      <td>Average orders</td>\n",
       "    </tr>\n",
       "    <tr>\n",
       "      <th>2</th>\n",
       "      <td>0</td>\n",
       "      <td>2539329</td>\n",
       "      <td>1</td>\n",
       "      <td>1</td>\n",
       "      <td>2</td>\n",
       "      <td>8</td>\n",
       "      <td>NaN</td>\n",
       "      <td>True</td>\n",
       "      <td>12427</td>\n",
       "      <td>3</td>\n",
       "      <td>...</td>\n",
       "      <td>both</td>\n",
       "      <td>12427</td>\n",
       "      <td>Original Beef Jerky</td>\n",
       "      <td>23</td>\n",
       "      <td>19</td>\n",
       "      <td>4.4</td>\n",
       "      <td>both</td>\n",
       "      <td>Low-range product</td>\n",
       "      <td>Regularly busy</td>\n",
       "      <td>Average orders</td>\n",
       "    </tr>\n",
       "    <tr>\n",
       "      <th>3</th>\n",
       "      <td>0</td>\n",
       "      <td>2539329</td>\n",
       "      <td>1</td>\n",
       "      <td>1</td>\n",
       "      <td>2</td>\n",
       "      <td>8</td>\n",
       "      <td>NaN</td>\n",
       "      <td>True</td>\n",
       "      <td>26088</td>\n",
       "      <td>4</td>\n",
       "      <td>...</td>\n",
       "      <td>both</td>\n",
       "      <td>26089</td>\n",
       "      <td>Aged White Cheddar Popcorn</td>\n",
       "      <td>23</td>\n",
       "      <td>19</td>\n",
       "      <td>4.7</td>\n",
       "      <td>both</td>\n",
       "      <td>Low-range product</td>\n",
       "      <td>Regularly busy</td>\n",
       "      <td>Average orders</td>\n",
       "    </tr>\n",
       "    <tr>\n",
       "      <th>4</th>\n",
       "      <td>0</td>\n",
       "      <td>2539329</td>\n",
       "      <td>1</td>\n",
       "      <td>1</td>\n",
       "      <td>2</td>\n",
       "      <td>8</td>\n",
       "      <td>NaN</td>\n",
       "      <td>True</td>\n",
       "      <td>26405</td>\n",
       "      <td>5</td>\n",
       "      <td>...</td>\n",
       "      <td>both</td>\n",
       "      <td>26406</td>\n",
       "      <td>XL Pick-A-Size Paper Towel Rolls</td>\n",
       "      <td>54</td>\n",
       "      <td>17</td>\n",
       "      <td>1.0</td>\n",
       "      <td>both</td>\n",
       "      <td>Low-range product</td>\n",
       "      <td>Regularly busy</td>\n",
       "      <td>Average orders</td>\n",
       "    </tr>\n",
       "  </tbody>\n",
       "</table>\n",
       "<p>5 rows × 21 columns</p>\n",
       "</div>"
      ],
      "text/plain": [
       "   Unnamed: 0_x  order_id  user_id  order_number  orders_day_of_week  \\\n",
       "0             0   2539329        1             1                   2   \n",
       "1             0   2539329        1             1                   2   \n",
       "2             0   2539329        1             1                   2   \n",
       "3             0   2539329        1             1                   2   \n",
       "4             0   2539329        1             1                   2   \n",
       "\n",
       "   order_time  days_since_prior_order  new_customer  product_id  \\\n",
       "0           8                     NaN          True         196   \n",
       "1           8                     NaN          True       14084   \n",
       "2           8                     NaN          True       12427   \n",
       "3           8                     NaN          True       26088   \n",
       "4           8                     NaN          True       26405   \n",
       "\n",
       "   add_to_cart_order  ...  _merge Unnamed: 0_y  \\\n",
       "0                  1  ...    both          195   \n",
       "1                  2  ...    both        14084   \n",
       "2                  3  ...    both        12427   \n",
       "3                  4  ...    both        26089   \n",
       "4                  5  ...    both        26406   \n",
       "\n",
       "                              product_name aisle_id  department_id  prices  \\\n",
       "0                                     Soda       77              7     9.0   \n",
       "1  Organic Unsweetened Vanilla Almond Milk       91             16    12.5   \n",
       "2                      Original Beef Jerky       23             19     4.4   \n",
       "3               Aged White Cheddar Popcorn       23             19     4.7   \n",
       "4         XL Pick-A-Size Paper Towel Rolls       54             17     1.0   \n",
       "\n",
       "   merge_2    price_range_loc     busiest_day busiest_period_of_day  \n",
       "0     both  Mid-range product  Regularly busy        Average orders  \n",
       "1     both  Mid-range product  Regularly busy        Average orders  \n",
       "2     both  Low-range product  Regularly busy        Average orders  \n",
       "3     both  Low-range product  Regularly busy        Average orders  \n",
       "4     both  Low-range product  Regularly busy        Average orders  \n",
       "\n",
       "[5 rows x 21 columns]"
      ]
     },
     "execution_count": 41,
     "metadata": {},
     "output_type": "execute_result"
    }
   ],
   "source": [
    "df_ords_prods_merge .head()"
   ]
  },
  {
   "cell_type": "code",
   "execution_count": 43,
   "id": "0d78fd4a-b3df-4130-9f91-abef8c34b11e",
   "metadata": {},
   "outputs": [],
   "source": [
    "df_ords_prods_merge = df_ords_prods_merge.drop(['Unnamed: 0_x','_merge', 'merge_2','Unnamed: 0_y'], axis=1)\n"
   ]
  },
  {
   "cell_type": "code",
   "execution_count": 46,
   "id": "5e2c15b8-b04b-421b-b861-f5c450ec4bb2",
   "metadata": {},
   "outputs": [
    {
     "name": "stdout",
     "output_type": "stream",
     "text": [
      "order_id                    int64\n",
      "user_id                     int64\n",
      "order_number                int64\n",
      "orders_day_of_week          int64\n",
      "order_time                  int64\n",
      "days_since_prior_order    float64\n",
      "new_customer                 bool\n",
      "product_id                  int64\n",
      "add_to_cart_order           int64\n",
      "reordered                   int64\n",
      "product_name               object\n",
      "aisle_id                    int64\n",
      "department_id               int64\n",
      "prices                    float64\n",
      "price_range_loc            object\n",
      "busiest_day                object\n",
      "busiest_period_of_day      object\n",
      "dtype: object\n"
     ]
    }
   ],
   "source": [
    "print(df_ords_prods_merge.dtypes)"
   ]
  },
  {
   "cell_type": "code",
   "execution_count": 48,
   "id": "ab90a95a-6b5e-4c18-b51f-20b37f8fd49a",
   "metadata": {},
   "outputs": [
    {
     "name": "stdout",
     "output_type": "stream",
     "text": [
      "Index                           132\n",
      "order_id                  259238872\n",
      "user_id                   259238872\n",
      "order_number              259238872\n",
      "orders_day_of_week        259238872\n",
      "order_time                259238872\n",
      "days_since_prior_order    259238872\n",
      "new_customer               32404859\n",
      "product_id                259238872\n",
      "add_to_cart_order         259238872\n",
      "reordered                 259238872\n",
      "product_name              259238872\n",
      "aisle_id                  259238872\n",
      "department_id             259238872\n",
      "prices                    259238872\n",
      "price_range_loc           259238872\n",
      "busiest_day               259238872\n",
      "busiest_period_of_day     259238872\n",
      "dtype: int64\n"
     ]
    }
   ],
   "source": [
    "print(df_ords_prods_merge.memory_usage())"
   ]
  },
  {
   "cell_type": "code",
   "execution_count": 53,
   "id": "fd40b7c2-dddc-4048-a9a6-6cbbc5bbdaa9",
   "metadata": {},
   "outputs": [],
   "source": [
    "# Convert integer columns\n",
    "df_ords_prods_merge['order_id'] = df_ords_prods_merge['order_id'].astype('int32')\n",
    "df_ords_prods_merge['user_id'] = df_ords_prods_merge['user_id'].astype('int32')\n",
    "df_ords_prods_merge['order_number'] = df_ords_prods_merge['order_number'].astype('int32')\n",
    "df_ords_prods_merge['orders_day_of_week'] = df_ords_prods_merge['orders_day_of_week'].astype('int8')  \n",
    "df_ords_prods_merge['order_time'] = df_ords_prods_merge['order_time'].astype('int8')\n",
    "df_ords_prods_merge['product_id'] = df_ords_prods_merge['product_id'].astype('int32')\n",
    "df_ords_prods_merge['add_to_cart_order'] = df_ords_prods_merge['add_to_cart_order'].astype('int32') \n",
    "df_ords_prods_merge['reordered'] = df_ords_prods_merge['reordered'].astype('int32') \n",
    "df_ords_prods_merge['aisle_id'] = df_ords_prods_merge['aisle_id'].astype('int32') \n",
    "df_ords_prods_merge['department_id'] = df_ords_prods_merge['department_id'].astype('int32') "
   ]
  },
  {
   "cell_type": "code",
   "execution_count": 50,
   "id": "5cc32ebe-23b9-4c49-b66c-dfc35c66fbdd",
   "metadata": {},
   "outputs": [],
   "source": [
    "# Convert float columns\n",
    "df_ords_prods_merge['days_since_prior_order'] = df_ords_prods_merge['days_since_prior_order'].astype('float32')\n",
    "df_ords_prods_merge['prices'] = df_ords_prods_merge['prices'].astype('float32')"
   ]
  },
  {
   "cell_type": "code",
   "execution_count": 54,
   "id": "7cf960e7-ce44-464e-be1a-06852f52a46d",
   "metadata": {},
   "outputs": [
    {
     "name": "stdout",
     "output_type": "stream",
     "text": [
      "Index                           132\n",
      "order_id                  129619436\n",
      "user_id                   129619436\n",
      "order_number              129619436\n",
      "orders_day_of_week         32404859\n",
      "order_time                 32404859\n",
      "days_since_prior_order    129619436\n",
      "new_customer               32404859\n",
      "product_id                129619436\n",
      "add_to_cart_order         129619436\n",
      "reordered                 129619436\n",
      "product_name              259238872\n",
      "aisle_id                  129619436\n",
      "department_id             129619436\n",
      "prices                    129619436\n",
      "price_range_loc           259238872\n",
      "busiest_day               259238872\n",
      "busiest_period_of_day     259238872\n",
      "dtype: int64\n"
     ]
    }
   ],
   "source": [
    "print(df_ords_prods_merge.memory_usage())"
   ]
  },
  {
   "cell_type": "code",
   "execution_count": 56,
   "id": "32697424-3483-4761-9cd7-47e515d12f05",
   "metadata": {},
   "outputs": [],
   "source": [
    "# Export data to pkl\n",
    "df_ords_prods_merge.to_pickle(os.path.join(path, '02 Data','Prepared Data', 'df_ords_prods_merge1.pkl'))"
   ]
  },
  {
   "cell_type": "code",
   "execution_count": null,
   "id": "2518dc16-1119-4596-9e0e-70449f4df887",
   "metadata": {},
   "outputs": [],
   "source": []
  }
 ],
 "metadata": {
  "kernelspec": {
   "display_name": "Python 3.12",
   "language": "python",
   "name": "python3.12"
  },
  "language_info": {
   "codemirror_mode": {
    "name": "ipython",
    "version": 3
   },
   "file_extension": ".py",
   "mimetype": "text/x-python",
   "name": "python",
   "nbconvert_exporter": "python",
   "pygments_lexer": "ipython3",
   "version": "3.12.7"
  }
 },
 "nbformat": 4,
 "nbformat_minor": 5
}
