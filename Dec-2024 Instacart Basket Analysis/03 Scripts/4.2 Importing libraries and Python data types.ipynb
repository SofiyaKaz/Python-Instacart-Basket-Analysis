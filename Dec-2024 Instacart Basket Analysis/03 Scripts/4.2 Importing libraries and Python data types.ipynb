{
 "cells": [
  {
   "cell_type": "markdown",
   "id": "b527f561-646b-4dff-9393-4d0a6436e850",
   "metadata": {},
   "source": [
    "# 0.1 Importing libraries"
   ]
  },
  {
   "cell_type": "code",
   "execution_count": 2,
   "id": "62a96265-2691-4e9e-b43f-902fbe668f77",
   "metadata": {},
   "outputs": [],
   "source": [
    "# Import libraries\n",
    "import pandas as pd\n",
    "import numpy as np\n",
    "import os"
   ]
  },
  {
   "cell_type": "markdown",
   "id": "a3fe5f3d-09ae-48bf-85a8-3d1d1a339f54",
   "metadata": {},
   "source": [
    "# 0.2 Data Types"
   ]
  },
  {
   "cell_type": "code",
   "execution_count": 3,
   "id": "c2b75b8c-a9de-4d2d-9487-15f2edbaf30d",
   "metadata": {},
   "outputs": [],
   "source": [
    "x=50"
   ]
  },
  {
   "cell_type": "code",
   "execution_count": 4,
   "id": "53e79e91-190f-4412-8e67-31dee4e97f20",
   "metadata": {},
   "outputs": [
    {
     "data": {
      "text/plain": [
       "100"
      ]
     },
     "execution_count": 4,
     "metadata": {},
     "output_type": "execute_result"
    }
   ],
   "source": [
    "x*2"
   ]
  },
  {
   "cell_type": "code",
   "execution_count": 5,
   "id": "471be304-3ffb-49e5-bd93-1373c0a8dfa4",
   "metadata": {},
   "outputs": [
    {
     "data": {
      "text/plain": [
       "100"
      ]
     },
     "execution_count": 5,
     "metadata": {},
     "output_type": "execute_result"
    }
   ],
   "source": [
    "x+x"
   ]
  },
  {
   "cell_type": "code",
   "execution_count": 7,
   "id": "57b2b22f-b808-4f08-91e9-7bea555ccb9e",
   "metadata": {},
   "outputs": [
    {
     "data": {
      "text/plain": [
       "100"
      ]
     },
     "execution_count": 7,
     "metadata": {},
     "output_type": "execute_result"
    }
   ],
   "source": [
    "150-x"
   ]
  },
  {
   "cell_type": "code",
   "execution_count": 8,
   "id": "ea629ebe-554d-42cd-b0fc-0c8841c6702f",
   "metadata": {},
   "outputs": [],
   "source": [
    "z=3.456"
   ]
  },
  {
   "cell_type": "code",
   "execution_count": 9,
   "id": "bb0da973-b90d-4d7f-9b4d-eb070f1fd47b",
   "metadata": {},
   "outputs": [],
   "source": [
    "y=8.765"
   ]
  },
  {
   "cell_type": "code",
   "execution_count": 10,
   "id": "dcf061fb-7ea6-42b0-83fd-3f3b16ee2453",
   "metadata": {},
   "outputs": [
    {
     "data": {
      "text/plain": [
       "2.536168981481482"
      ]
     },
     "execution_count": 10,
     "metadata": {},
     "output_type": "execute_result"
    }
   ],
   "source": [
    "y/z"
   ]
  },
  {
   "cell_type": "code",
   "execution_count": 11,
   "id": "f5ae6dfb-7951-41a4-8767-6db45efa6224",
   "metadata": {},
   "outputs": [],
   "source": [
    "m=\"basket\""
   ]
  },
  {
   "cell_type": "code",
   "execution_count": 12,
   "id": "7b3a4032-e5b9-4c78-9e57-43cf3a049723",
   "metadata": {},
   "outputs": [],
   "source": [
    "n=\"ball\"\n"
   ]
  },
  {
   "cell_type": "code",
   "execution_count": 13,
   "id": "6c36b554-8170-4397-8ef4-eae4ac31be1d",
   "metadata": {},
   "outputs": [
    {
     "data": {
      "text/plain": [
       "'basketball'"
      ]
     },
     "execution_count": 13,
     "metadata": {},
     "output_type": "execute_result"
    }
   ],
   "source": [
    "m+n"
   ]
  },
  {
   "cell_type": "code",
   "execution_count": 20,
   "id": "ad7ea073-4689-4cd8-b94c-146e47d994a0",
   "metadata": {},
   "outputs": [],
   "source": [
    "string1=\"Data analysts need\""
   ]
  },
  {
   "cell_type": "code",
   "execution_count": 18,
   "id": "3a222c21-df09-4556-bd8e-24bbee837db8",
   "metadata": {},
   "outputs": [],
   "source": [
    "string2=\" to know Python\""
   ]
  },
  {
   "cell_type": "code",
   "execution_count": 21,
   "id": "298b6a61-7d3e-43ec-af61-d92f452eeb44",
   "metadata": {},
   "outputs": [
    {
     "data": {
      "text/plain": [
       "'Data analysts need to know Python'"
      ]
     },
     "execution_count": 21,
     "metadata": {},
     "output_type": "execute_result"
    }
   ],
   "source": [
    "string1+string2"
   ]
  },
  {
   "cell_type": "code",
   "execution_count": 22,
   "id": "c1141674-a447-4776-9c09-780eb877b218",
   "metadata": {},
   "outputs": [],
   "source": [
    "string3=\"Tableau is\""
   ]
  },
  {
   "cell_type": "code",
   "execution_count": 23,
   "id": "164e5492-34c5-436c-b62e-857886ad6ff5",
   "metadata": {},
   "outputs": [],
   "source": [
    "string4=\" a visualization tool\""
   ]
  },
  {
   "cell_type": "code",
   "execution_count": 25,
   "id": "88b6fee8-7000-4f2a-ab36-18b82e6d1c7c",
   "metadata": {},
   "outputs": [],
   "source": [
    "sentence1=string3+string4"
   ]
  },
  {
   "cell_type": "code",
   "execution_count": 26,
   "id": "6041e90e-0a97-49a6-8fb9-5bbd9935396e",
   "metadata": {},
   "outputs": [
    {
     "name": "stdout",
     "output_type": "stream",
     "text": [
      "Tableau is a visualization tool\n"
     ]
    }
   ],
   "source": [
    "print (sentence1)"
   ]
  },
  {
   "cell_type": "code",
   "execution_count": 27,
   "id": "55fabdcc-3771-49c8-9a11-8c076c71084c",
   "metadata": {},
   "outputs": [
    {
     "data": {
      "text/plain": [
       "'Tableau isTableau isTableau isTableau isTableau isTableau isTableau isTableau isTableau isTableau isTableau isTableau isTableau isTableau isTableau isTableau isTableau isTableau isTableau isTableau isTableau isTableau isTableau isTableau isTableau isTableau isTableau isTableau isTableau isTableau isTableau isTableau isTableau isTableau isTableau isTableau isTableau isTableau isTableau isTableau isTableau isTableau isTableau isTableau isTableau isTableau isTableau isTableau isTableau isTableau isTableau isTableau isTableau isTableau isTableau isTableau isTableau isTableau isTableau isTableau isTableau isTableau isTableau isTableau isTableau isTableau isTableau isTableau isTableau isTableau isTableau isTableau isTableau isTableau isTableau isTableau isTableau isTableau isTableau isTableau isTableau isTableau isTableau isTableau isTableau isTableau isTableau isTableau isTableau isTableau isTableau isTableau isTableau isTableau isTableau isTableau isTableau isTableau isTableau isTableau is'"
      ]
     },
     "execution_count": 27,
     "metadata": {},
     "output_type": "execute_result"
    }
   ],
   "source": [
    "string3*100"
   ]
  },
  {
   "cell_type": "code",
   "execution_count": null,
   "id": "da9dc29e-73d4-40b5-b29f-844b0f98e424",
   "metadata": {},
   "outputs": [],
   "source": []
  }
 ],
 "metadata": {
  "kernelspec": {
   "display_name": "Python 3.12",
   "language": "python",
   "name": "python3.12"
  },
  "language_info": {
   "codemirror_mode": {
    "name": "ipython",
    "version": 3
   },
   "file_extension": ".py",
   "mimetype": "text/x-python",
   "name": "python",
   "nbconvert_exporter": "python",
   "pygments_lexer": "ipython3",
   "version": "3.12.7"
  }
 },
 "nbformat": 4,
 "nbformat_minor": 5
}
