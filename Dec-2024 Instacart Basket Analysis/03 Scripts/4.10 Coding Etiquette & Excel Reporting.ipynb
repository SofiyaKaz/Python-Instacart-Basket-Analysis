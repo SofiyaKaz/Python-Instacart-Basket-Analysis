{
 "cells": [
  {
   "cell_type": "markdown",
   "id": "23d1f6b5-766a-4c1c-b50f-880c9c95ad7a",
   "metadata": {},
   "source": [
    "# 1. Import the data"
   ]
  },
  {
   "cell_type": "code",
   "execution_count": 2,
   "id": "71eb73f1-d0c6-4a66-9050-9816db09431a",
   "metadata": {},
   "outputs": [],
   "source": [
    "# import libraries\n",
    "import pandas as pd\n",
    "import numpy as np\n",
    "import os"
   ]
  },
  {
   "cell_type": "code",
   "execution_count": 3,
   "id": "f467e851-65df-4b6a-bbcd-d70bc66f74bf",
   "metadata": {},
   "outputs": [],
   "source": [
    "path=r'/Users/sofiakazeko/Jupiter/Dec-2024 Instacart Basket Analysis'"
   ]
  },
  {
   "cell_type": "code",
   "execution_count": 7,
   "id": "e3483809-4b26-408a-ab39-02a851d5ce2a",
   "metadata": {},
   "outputs": [],
   "source": [
    "# import the df_cust_merge \n",
    "df_cust_merge = pd.read_pickle(os.path.join(path, '02 Data', 'Prepared Data', 'df_cust_merge.pkl'))"
   ]
  },
  {
   "cell_type": "code",
   "execution_count": 8,
   "id": "5dfa6ff8-9579-41b4-af95-69598945c491",
   "metadata": {},
   "outputs": [
    {
     "data": {
      "text/html": [
       "<div>\n",
       "<style scoped>\n",
       "    .dataframe tbody tr th:only-of-type {\n",
       "        vertical-align: middle;\n",
       "    }\n",
       "\n",
       "    .dataframe tbody tr th {\n",
       "        vertical-align: top;\n",
       "    }\n",
       "\n",
       "    .dataframe thead th {\n",
       "        text-align: right;\n",
       "    }\n",
       "</style>\n",
       "<table border=\"1\" class=\"dataframe\">\n",
       "  <thead>\n",
       "    <tr style=\"text-align: right;\">\n",
       "      <th></th>\n",
       "      <th>order_id</th>\n",
       "      <th>user_id</th>\n",
       "      <th>order_number</th>\n",
       "      <th>orders_day_of_week</th>\n",
       "      <th>order_time</th>\n",
       "      <th>days_since_prior_order</th>\n",
       "      <th>new_customer</th>\n",
       "      <th>product_id</th>\n",
       "      <th>add_to_cart_order</th>\n",
       "      <th>reordered</th>\n",
       "      <th>...</th>\n",
       "      <th>First Name</th>\n",
       "      <th>Surname</th>\n",
       "      <th>Gender</th>\n",
       "      <th>STATE</th>\n",
       "      <th>Age</th>\n",
       "      <th>date_joined</th>\n",
       "      <th>number_of_dependants</th>\n",
       "      <th>Family_status</th>\n",
       "      <th>income</th>\n",
       "      <th>_merge</th>\n",
       "    </tr>\n",
       "  </thead>\n",
       "  <tbody>\n",
       "    <tr>\n",
       "      <th>0</th>\n",
       "      <td>2539329</td>\n",
       "      <td>1</td>\n",
       "      <td>1</td>\n",
       "      <td>2</td>\n",
       "      <td>8</td>\n",
       "      <td>NaN</td>\n",
       "      <td>True</td>\n",
       "      <td>196</td>\n",
       "      <td>1</td>\n",
       "      <td>0</td>\n",
       "      <td>...</td>\n",
       "      <td>Linda</td>\n",
       "      <td>Nguyen</td>\n",
       "      <td>Female</td>\n",
       "      <td>Alabama</td>\n",
       "      <td>31</td>\n",
       "      <td>2019-02-17</td>\n",
       "      <td>3</td>\n",
       "      <td>married</td>\n",
       "      <td>40423</td>\n",
       "      <td>both</td>\n",
       "    </tr>\n",
       "    <tr>\n",
       "      <th>1</th>\n",
       "      <td>2539329</td>\n",
       "      <td>1</td>\n",
       "      <td>1</td>\n",
       "      <td>2</td>\n",
       "      <td>8</td>\n",
       "      <td>NaN</td>\n",
       "      <td>True</td>\n",
       "      <td>14084</td>\n",
       "      <td>2</td>\n",
       "      <td>0</td>\n",
       "      <td>...</td>\n",
       "      <td>Linda</td>\n",
       "      <td>Nguyen</td>\n",
       "      <td>Female</td>\n",
       "      <td>Alabama</td>\n",
       "      <td>31</td>\n",
       "      <td>2019-02-17</td>\n",
       "      <td>3</td>\n",
       "      <td>married</td>\n",
       "      <td>40423</td>\n",
       "      <td>both</td>\n",
       "    </tr>\n",
       "    <tr>\n",
       "      <th>2</th>\n",
       "      <td>2539329</td>\n",
       "      <td>1</td>\n",
       "      <td>1</td>\n",
       "      <td>2</td>\n",
       "      <td>8</td>\n",
       "      <td>NaN</td>\n",
       "      <td>True</td>\n",
       "      <td>12427</td>\n",
       "      <td>3</td>\n",
       "      <td>0</td>\n",
       "      <td>...</td>\n",
       "      <td>Linda</td>\n",
       "      <td>Nguyen</td>\n",
       "      <td>Female</td>\n",
       "      <td>Alabama</td>\n",
       "      <td>31</td>\n",
       "      <td>2019-02-17</td>\n",
       "      <td>3</td>\n",
       "      <td>married</td>\n",
       "      <td>40423</td>\n",
       "      <td>both</td>\n",
       "    </tr>\n",
       "    <tr>\n",
       "      <th>3</th>\n",
       "      <td>2539329</td>\n",
       "      <td>1</td>\n",
       "      <td>1</td>\n",
       "      <td>2</td>\n",
       "      <td>8</td>\n",
       "      <td>NaN</td>\n",
       "      <td>True</td>\n",
       "      <td>26088</td>\n",
       "      <td>4</td>\n",
       "      <td>0</td>\n",
       "      <td>...</td>\n",
       "      <td>Linda</td>\n",
       "      <td>Nguyen</td>\n",
       "      <td>Female</td>\n",
       "      <td>Alabama</td>\n",
       "      <td>31</td>\n",
       "      <td>2019-02-17</td>\n",
       "      <td>3</td>\n",
       "      <td>married</td>\n",
       "      <td>40423</td>\n",
       "      <td>both</td>\n",
       "    </tr>\n",
       "    <tr>\n",
       "      <th>4</th>\n",
       "      <td>2539329</td>\n",
       "      <td>1</td>\n",
       "      <td>1</td>\n",
       "      <td>2</td>\n",
       "      <td>8</td>\n",
       "      <td>NaN</td>\n",
       "      <td>True</td>\n",
       "      <td>26405</td>\n",
       "      <td>5</td>\n",
       "      <td>0</td>\n",
       "      <td>...</td>\n",
       "      <td>Linda</td>\n",
       "      <td>Nguyen</td>\n",
       "      <td>Female</td>\n",
       "      <td>Alabama</td>\n",
       "      <td>31</td>\n",
       "      <td>2019-02-17</td>\n",
       "      <td>3</td>\n",
       "      <td>married</td>\n",
       "      <td>40423</td>\n",
       "      <td>both</td>\n",
       "    </tr>\n",
       "  </tbody>\n",
       "</table>\n",
       "<p>5 rows × 33 columns</p>\n",
       "</div>"
      ],
      "text/plain": [
       "   order_id user_id  order_number  orders_day_of_week  order_time  \\\n",
       "0   2539329       1             1                   2           8   \n",
       "1   2539329       1             1                   2           8   \n",
       "2   2539329       1             1                   2           8   \n",
       "3   2539329       1             1                   2           8   \n",
       "4   2539329       1             1                   2           8   \n",
       "\n",
       "   days_since_prior_order  new_customer  product_id  add_to_cart_order  \\\n",
       "0                     NaN          True         196                  1   \n",
       "1                     NaN          True       14084                  2   \n",
       "2                     NaN          True       12427                  3   \n",
       "3                     NaN          True       26088                  4   \n",
       "4                     NaN          True       26405                  5   \n",
       "\n",
       "   reordered  ... First Name  Surname  Gender    STATE Age date_joined  \\\n",
       "0          0  ...      Linda   Nguyen  Female  Alabama  31  2019-02-17   \n",
       "1          0  ...      Linda   Nguyen  Female  Alabama  31  2019-02-17   \n",
       "2          0  ...      Linda   Nguyen  Female  Alabama  31  2019-02-17   \n",
       "3          0  ...      Linda   Nguyen  Female  Alabama  31  2019-02-17   \n",
       "4          0  ...      Linda   Nguyen  Female  Alabama  31  2019-02-17   \n",
       "\n",
       "  number_of_dependants  Family_status income  _merge  \n",
       "0                    3        married  40423    both  \n",
       "1                    3        married  40423    both  \n",
       "2                    3        married  40423    both  \n",
       "3                    3        married  40423    both  \n",
       "4                    3        married  40423    both  \n",
       "\n",
       "[5 rows x 33 columns]"
      ]
     },
     "execution_count": 8,
     "metadata": {},
     "output_type": "execute_result"
    }
   ],
   "source": [
    "df_cust_merge.head()"
   ]
  },
  {
   "cell_type": "code",
   "execution_count": 9,
   "id": "9fef6f35-6d3c-4305-bcd8-a49398d6ce6b",
   "metadata": {},
   "outputs": [
    {
     "data": {
      "text/plain": [
       "(32404859, 33)"
      ]
     },
     "execution_count": 9,
     "metadata": {},
     "output_type": "execute_result"
    }
   ],
   "source": [
    "df_cust_merge.shape"
   ]
  },
  {
   "cell_type": "markdown",
   "id": "4471e464-eef8-4eab-9bb4-6a8db73e2406",
   "metadata": {},
   "source": [
    "# 2. Addressing PII data"
   ]
  },
  {
   "cell_type": "code",
   "execution_count": 11,
   "id": "05a44575-6432-46e1-b780-fac44585f95b",
   "metadata": {},
   "outputs": [],
   "source": [
    "#dropping columns with sensitive info and _merge column\n",
    "df_cust_merge_1=df_cust_merge.drop(['First Name', 'Surname', '_merge'], axis=1)"
   ]
  },
  {
   "cell_type": "code",
   "execution_count": 13,
   "id": "188d9197-b3ff-475f-8bec-f14c51850cc0",
   "metadata": {},
   "outputs": [
    {
     "data": {
      "text/html": [
       "<div>\n",
       "<style scoped>\n",
       "    .dataframe tbody tr th:only-of-type {\n",
       "        vertical-align: middle;\n",
       "    }\n",
       "\n",
       "    .dataframe tbody tr th {\n",
       "        vertical-align: top;\n",
       "    }\n",
       "\n",
       "    .dataframe thead th {\n",
       "        text-align: right;\n",
       "    }\n",
       "</style>\n",
       "<table border=\"1\" class=\"dataframe\">\n",
       "  <thead>\n",
       "    <tr style=\"text-align: right;\">\n",
       "      <th></th>\n",
       "      <th>order_id</th>\n",
       "      <th>user_id</th>\n",
       "      <th>order_number</th>\n",
       "      <th>orders_day_of_week</th>\n",
       "      <th>order_time</th>\n",
       "      <th>days_since_prior_order</th>\n",
       "      <th>new_customer</th>\n",
       "      <th>product_id</th>\n",
       "      <th>add_to_cart_order</th>\n",
       "      <th>reordered</th>\n",
       "      <th>...</th>\n",
       "      <th>spending_flag</th>\n",
       "      <th>median_days</th>\n",
       "      <th>frequency_flag</th>\n",
       "      <th>Gender</th>\n",
       "      <th>STATE</th>\n",
       "      <th>Age</th>\n",
       "      <th>date_joined</th>\n",
       "      <th>number_of_dependants</th>\n",
       "      <th>Family_status</th>\n",
       "      <th>income</th>\n",
       "    </tr>\n",
       "  </thead>\n",
       "  <tbody>\n",
       "    <tr>\n",
       "      <th>0</th>\n",
       "      <td>2539329</td>\n",
       "      <td>1</td>\n",
       "      <td>1</td>\n",
       "      <td>2</td>\n",
       "      <td>8</td>\n",
       "      <td>NaN</td>\n",
       "      <td>True</td>\n",
       "      <td>196</td>\n",
       "      <td>1</td>\n",
       "      <td>0</td>\n",
       "      <td>...</td>\n",
       "      <td>Low spender</td>\n",
       "      <td>20.5</td>\n",
       "      <td>Non-frequent customer</td>\n",
       "      <td>Female</td>\n",
       "      <td>Alabama</td>\n",
       "      <td>31</td>\n",
       "      <td>2019-02-17</td>\n",
       "      <td>3</td>\n",
       "      <td>married</td>\n",
       "      <td>40423</td>\n",
       "    </tr>\n",
       "    <tr>\n",
       "      <th>1</th>\n",
       "      <td>2539329</td>\n",
       "      <td>1</td>\n",
       "      <td>1</td>\n",
       "      <td>2</td>\n",
       "      <td>8</td>\n",
       "      <td>NaN</td>\n",
       "      <td>True</td>\n",
       "      <td>14084</td>\n",
       "      <td>2</td>\n",
       "      <td>0</td>\n",
       "      <td>...</td>\n",
       "      <td>Low spender</td>\n",
       "      <td>20.5</td>\n",
       "      <td>Non-frequent customer</td>\n",
       "      <td>Female</td>\n",
       "      <td>Alabama</td>\n",
       "      <td>31</td>\n",
       "      <td>2019-02-17</td>\n",
       "      <td>3</td>\n",
       "      <td>married</td>\n",
       "      <td>40423</td>\n",
       "    </tr>\n",
       "    <tr>\n",
       "      <th>2</th>\n",
       "      <td>2539329</td>\n",
       "      <td>1</td>\n",
       "      <td>1</td>\n",
       "      <td>2</td>\n",
       "      <td>8</td>\n",
       "      <td>NaN</td>\n",
       "      <td>True</td>\n",
       "      <td>12427</td>\n",
       "      <td>3</td>\n",
       "      <td>0</td>\n",
       "      <td>...</td>\n",
       "      <td>Low spender</td>\n",
       "      <td>20.5</td>\n",
       "      <td>Non-frequent customer</td>\n",
       "      <td>Female</td>\n",
       "      <td>Alabama</td>\n",
       "      <td>31</td>\n",
       "      <td>2019-02-17</td>\n",
       "      <td>3</td>\n",
       "      <td>married</td>\n",
       "      <td>40423</td>\n",
       "    </tr>\n",
       "    <tr>\n",
       "      <th>3</th>\n",
       "      <td>2539329</td>\n",
       "      <td>1</td>\n",
       "      <td>1</td>\n",
       "      <td>2</td>\n",
       "      <td>8</td>\n",
       "      <td>NaN</td>\n",
       "      <td>True</td>\n",
       "      <td>26088</td>\n",
       "      <td>4</td>\n",
       "      <td>0</td>\n",
       "      <td>...</td>\n",
       "      <td>Low spender</td>\n",
       "      <td>20.5</td>\n",
       "      <td>Non-frequent customer</td>\n",
       "      <td>Female</td>\n",
       "      <td>Alabama</td>\n",
       "      <td>31</td>\n",
       "      <td>2019-02-17</td>\n",
       "      <td>3</td>\n",
       "      <td>married</td>\n",
       "      <td>40423</td>\n",
       "    </tr>\n",
       "    <tr>\n",
       "      <th>4</th>\n",
       "      <td>2539329</td>\n",
       "      <td>1</td>\n",
       "      <td>1</td>\n",
       "      <td>2</td>\n",
       "      <td>8</td>\n",
       "      <td>NaN</td>\n",
       "      <td>True</td>\n",
       "      <td>26405</td>\n",
       "      <td>5</td>\n",
       "      <td>0</td>\n",
       "      <td>...</td>\n",
       "      <td>Low spender</td>\n",
       "      <td>20.5</td>\n",
       "      <td>Non-frequent customer</td>\n",
       "      <td>Female</td>\n",
       "      <td>Alabama</td>\n",
       "      <td>31</td>\n",
       "      <td>2019-02-17</td>\n",
       "      <td>3</td>\n",
       "      <td>married</td>\n",
       "      <td>40423</td>\n",
       "    </tr>\n",
       "  </tbody>\n",
       "</table>\n",
       "<p>5 rows × 30 columns</p>\n",
       "</div>"
      ],
      "text/plain": [
       "   order_id user_id  order_number  orders_day_of_week  order_time  \\\n",
       "0   2539329       1             1                   2           8   \n",
       "1   2539329       1             1                   2           8   \n",
       "2   2539329       1             1                   2           8   \n",
       "3   2539329       1             1                   2           8   \n",
       "4   2539329       1             1                   2           8   \n",
       "\n",
       "   days_since_prior_order  new_customer  product_id  add_to_cart_order  \\\n",
       "0                     NaN          True         196                  1   \n",
       "1                     NaN          True       14084                  2   \n",
       "2                     NaN          True       12427                  3   \n",
       "3                     NaN          True       26088                  4   \n",
       "4                     NaN          True       26405                  5   \n",
       "\n",
       "   reordered  ... spending_flag  median_days         frequency_flag  Gender  \\\n",
       "0          0  ...   Low spender         20.5  Non-frequent customer  Female   \n",
       "1          0  ...   Low spender         20.5  Non-frequent customer  Female   \n",
       "2          0  ...   Low spender         20.5  Non-frequent customer  Female   \n",
       "3          0  ...   Low spender         20.5  Non-frequent customer  Female   \n",
       "4          0  ...   Low spender         20.5  Non-frequent customer  Female   \n",
       "\n",
       "     STATE Age date_joined  number_of_dependants Family_status  income  \n",
       "0  Alabama  31  2019-02-17                     3       married   40423  \n",
       "1  Alabama  31  2019-02-17                     3       married   40423  \n",
       "2  Alabama  31  2019-02-17                     3       married   40423  \n",
       "3  Alabama  31  2019-02-17                     3       married   40423  \n",
       "4  Alabama  31  2019-02-17                     3       married   40423  \n",
       "\n",
       "[5 rows x 30 columns]"
      ]
     },
     "execution_count": 13,
     "metadata": {},
     "output_type": "execute_result"
    }
   ],
   "source": [
    "df_cust_merge_1.head()"
   ]
  },
  {
   "cell_type": "code",
   "execution_count": 14,
   "id": "b9b55662-e9b6-4e3a-a81c-90f3f918e08b",
   "metadata": {},
   "outputs": [
    {
     "data": {
      "text/plain": [
       "Index(['order_id', 'user_id', 'order_number', 'orders_day_of_week',\n",
       "       'order_time', 'days_since_prior_order', 'new_customer', 'product_id',\n",
       "       'add_to_cart_order', 'reordered', 'product_name', 'aisle_id',\n",
       "       'department_id', 'prices', 'price_range_loc', 'busiest_day',\n",
       "       'busiest_period_of_day', 'max_order', 'loyalty_flag', 'mean_prices',\n",
       "       'spending_flag', 'median_days', 'frequency_flag', 'Gender', 'STATE',\n",
       "       'Age', 'date_joined', 'number_of_dependants', 'Family_status',\n",
       "       'income'],\n",
       "      dtype='object')"
      ]
     },
     "execution_count": 14,
     "metadata": {},
     "output_type": "execute_result"
    }
   ],
   "source": [
    "df_cust_merge_1.columns"
   ]
  },
  {
   "cell_type": "markdown",
   "id": "1ea3cef2-b5ce-4f95-a403-5bb554c52b3c",
   "metadata": {},
   "source": [
    "# 3a  Create a regional segmentation of the data."
   ]
  },
  {
   "cell_type": "code",
   "execution_count": 15,
   "id": "d96eb71f-eb43-4b43-8950-bf4f0f42e244",
   "metadata": {},
   "outputs": [],
   "source": [
    "# Get count of each state value\n",
    "state_counts = df_cust_merge_1['STATE'].value_counts()"
   ]
  },
  {
   "cell_type": "code",
   "execution_count": 16,
   "id": "f6f2e529-0428-44ac-8372-76371ae3977c",
   "metadata": {},
   "outputs": [
    {
     "data": {
      "text/plain": [
       "STATE\n",
       "Pennsylvania            667082\n",
       "California              659783\n",
       "Rhode Island            656913\n",
       "Georgia                 656389\n",
       "New Mexico              654494\n",
       "Arizona                 653964\n",
       "North Carolina          651900\n",
       "Oklahoma                651739\n",
       "Alaska                  648495\n",
       "Minnesota               647825\n",
       "Massachusetts           646358\n",
       "Wyoming                 644255\n",
       "Virginia                641421\n",
       "Missouri                640732\n",
       "Texas                   640394\n",
       "Colorado                639280\n",
       "Maine                   638583\n",
       "North Dakota            638491\n",
       "Alabama                 638003\n",
       "Kansas                  637538\n",
       "Louisiana               637482\n",
       "Delaware                637024\n",
       "South Carolina          636754\n",
       "Oregon                  636425\n",
       "Arkansas                636144\n",
       "Nevada                  636139\n",
       "New York                635983\n",
       "Montana                 635265\n",
       "South Dakota            633772\n",
       "Illinois                633024\n",
       "Hawaii                  632901\n",
       "Washington              632852\n",
       "Mississippi             632675\n",
       "Kentucky                632490\n",
       "Michigan                630928\n",
       "Florida                 629027\n",
       "Ohio                    628319\n",
       "Wisconsin               628108\n",
       "New Jersey              627692\n",
       "Indiana                 627282\n",
       "Maryland                626579\n",
       "Nebraska                625813\n",
       "Iowa                    625493\n",
       "Connecticut             623022\n",
       "Tennessee               617873\n",
       "New Hampshire           615378\n",
       "District of Columbia    613695\n",
       "West Virginia           612296\n",
       "Utah                    611941\n",
       "Vermont                 611725\n",
       "Idaho                   607119\n",
       "Name: count, dtype: int64"
      ]
     },
     "execution_count": 16,
     "metadata": {},
     "output_type": "execute_result"
    }
   ],
   "source": [
    "state_counts"
   ]
  },
  {
   "cell_type": "code",
   "execution_count": 18,
   "id": "514bc033-5336-4e34-87e3-ba11dd3372eb",
   "metadata": {},
   "outputs": [],
   "source": [
    "# Define regions based on U.S. Census Bureau\n",
    "df_cust_merge_1.loc[df_cust_merge_1['STATE'].isin([\n",
    "    'Connecticut', 'Maine', 'Massachusetts', 'New Hampshire', 'Rhode Island',\n",
    "    'Vermont', 'New Jersey', 'New York', 'Pennsylvania'\n",
    "]), 'Region'] = 'Northeast'\n",
    "\n",
    "df_cust_merge_1.loc[df_cust_merge_1['STATE'].isin([\n",
    "    'Illinois', 'Indiana', 'Michigan', 'Ohio', 'Wisconsin', 'Iowa',\n",
    "    'Kansas', 'Minnesota', 'Missouri', 'Nebraska', 'North Dakota', 'South Dakota'\n",
    "]), 'Region'] = 'Midwest'\n",
    "\n",
    "df_cust_merge_1.loc[df_cust_merge_1['STATE'].isin([\n",
    "    'Delaware', 'Florida', 'Georgia', 'Maryland', 'North Carolina', 'South Carolina',\n",
    "    'Virginia', 'District of Columbia', 'West Virginia', 'Alabama', 'Kentucky',\n",
    "    'Mississippi', 'Tennessee', 'Arkansas', 'Louisiana', 'Oklahoma', 'Texas'\n",
    "]), 'Region'] = 'South'\n",
    "\n",
    "df_cust_merge_1.loc[df_cust_merge_1['STATE'].isin([\n",
    "    'Arizona', 'Colorado', 'Idaho', 'Montana', 'Nevada', 'New Mexico', 'Utah',\n",
    "    'Wyoming', 'Alaska', 'California', 'Hawaii', 'Oregon', 'Washington'\n",
    "]), 'Region'] = 'West'"
   ]
  },
  {
   "cell_type": "code",
   "execution_count": 19,
   "id": "c4df5cd5-d988-436e-890b-6cbee8fcd516",
   "metadata": {},
   "outputs": [
    {
     "data": {
      "text/plain": [
       "Region\n",
       "South        10791885\n",
       "West          8292913\n",
       "Midwest       7597325\n",
       "Northeast     5722736\n",
       "Name: count, dtype: int64"
      ]
     },
     "execution_count": 19,
     "metadata": {},
     "output_type": "execute_result"
    }
   ],
   "source": [
    "df_cust_merge_1['Region'].value_counts()"
   ]
  },
  {
   "cell_type": "code",
   "execution_count": 20,
   "id": "bd080acf-c531-4d96-9d87-01990ec85314",
   "metadata": {},
   "outputs": [
    {
     "data": {
      "text/plain": [
       "STATE\n",
       "Alabama                 1\n",
       "Alaska                  1\n",
       "Arizona                 1\n",
       "Arkansas                1\n",
       "California              1\n",
       "Colorado                1\n",
       "Connecticut             1\n",
       "Delaware                1\n",
       "District of Columbia    1\n",
       "Florida                 1\n",
       "Georgia                 1\n",
       "Hawaii                  1\n",
       "Idaho                   1\n",
       "Illinois                1\n",
       "Indiana                 1\n",
       "Iowa                    1\n",
       "Kansas                  1\n",
       "Kentucky                1\n",
       "Louisiana               1\n",
       "Maine                   1\n",
       "Maryland                1\n",
       "Massachusetts           1\n",
       "Michigan                1\n",
       "Minnesota               1\n",
       "Mississippi             1\n",
       "Missouri                1\n",
       "Montana                 1\n",
       "Nebraska                1\n",
       "Nevada                  1\n",
       "New Hampshire           1\n",
       "New Jersey              1\n",
       "New Mexico              1\n",
       "New York                1\n",
       "North Carolina          1\n",
       "North Dakota            1\n",
       "Ohio                    1\n",
       "Oklahoma                1\n",
       "Oregon                  1\n",
       "Pennsylvania            1\n",
       "Rhode Island            1\n",
       "South Carolina          1\n",
       "South Dakota            1\n",
       "Tennessee               1\n",
       "Texas                   1\n",
       "Utah                    1\n",
       "Vermont                 1\n",
       "Virginia                1\n",
       "Washington              1\n",
       "West Virginia           1\n",
       "Wisconsin               1\n",
       "Wyoming                 1\n",
       "Name: Region, dtype: int64"
      ]
     },
     "execution_count": 20,
     "metadata": {},
     "output_type": "execute_result"
    }
   ],
   "source": [
    "# Group by 'State' and check unique 'Region' counts\n",
    "df_cust_merge_1.groupby('STATE')['Region'].nunique()\n",
    "\n"
   ]
  },
  {
   "cell_type": "markdown",
   "id": "a0bfec20-505c-4dc2-8ae3-e73174e78c08",
   "metadata": {},
   "source": [
    "# 3b Determine whether there’s a difference in spending habits between the different U.S. regions"
   ]
  },
  {
   "cell_type": "code",
   "execution_count": 200,
   "id": "19ef7945-811f-436d-9ed8-df03c15d6904",
   "metadata": {},
   "outputs": [],
   "source": [
    "spending_crosstab = pd.crosstab(df_cust_merge_1['Region'], df_cust_merge_1['spending_flag'], dropna = False)"
   ]
  },
  {
   "cell_type": "code",
   "execution_count": 25,
   "id": "4bb85473-63c4-4b08-961d-13f16d04da98",
   "metadata": {},
   "outputs": [
    {
     "name": "stdout",
     "output_type": "stream",
     "text": [
      "spending_flag  High spender  Low spender\n",
      "Region                                  \n",
      "Midwest              155975      7441350\n",
      "Northeast            108225      5614511\n",
      "South                209691     10582194\n",
      "West                 160354      8132559\n"
     ]
    }
   ],
   "source": [
    "print (spending_crosstab)"
   ]
  },
  {
   "cell_type": "code",
   "execution_count": 176,
   "id": "342ac46a-e7a5-4407-b274-680aa04651b9",
   "metadata": {},
   "outputs": [],
   "source": [
    "spending_crosstab.to_clipboard()"
   ]
  },
  {
   "cell_type": "code",
   "execution_count": 27,
   "id": "78efc2c1-c184-4a80-8969-c45629b8d283",
   "metadata": {},
   "outputs": [],
   "source": [
    "# Group by 'Spending Flag' and 'Region' and count unique 'user_id' \n",
    "result = df_cust_merge_1.groupby(['spending_flag', 'Region'])['user_id'].nunique()\n"
   ]
  },
  {
   "cell_type": "code",
   "execution_count": 28,
   "id": "d591aac3-cc5b-4ac3-a16c-b65cb16726b3",
   "metadata": {},
   "outputs": [
    {
     "name": "stdout",
     "output_type": "stream",
     "text": [
      "spending_flag  Region   \n",
      "High spender   Midwest       1263\n",
      "               Northeast      883\n",
      "               South         1817\n",
      "               West          1394\n",
      "Low spender    Midwest      47256\n",
      "               Northeast    35505\n",
      "               South        66920\n",
      "               West         51171\n",
      "Name: user_id, dtype: int64\n"
     ]
    }
   ],
   "source": [
    "print(result)"
   ]
  },
  {
   "cell_type": "code",
   "execution_count": 178,
   "id": "7928ab03-51af-44f2-a38c-b4df51cec081",
   "metadata": {},
   "outputs": [],
   "source": [
    "# save changes \n",
    "df_cust_merge_1.to_pickle(os.path.join(path, '02 Data','Prepared Data', 'df_cust_merge_final.pkl'))"
   ]
  },
  {
   "cell_type": "markdown",
   "id": "97a72d7c-5221-4861-b7db-7372d7c45428",
   "metadata": {},
   "source": [
    "# 4.Create an exclusion flag for low-activity customers (customers with less than 5 orders) and exclude them from the data."
   ]
  },
  {
   "cell_type": "code",
   "execution_count": 30,
   "id": "590e95e0-0d8a-4027-9ab0-536e9cff5ada",
   "metadata": {},
   "outputs": [],
   "source": [
    "#Create an exclusion flag for customers with fewer than 5 orders\n",
    "df_cust_merge_1['exclusion_flag'] = df_cust_merge_1['max_order'] < 5"
   ]
  },
  {
   "cell_type": "code",
   "execution_count": 33,
   "id": "ec4e16a8-09b3-4559-8531-1b691e72ca22",
   "metadata": {},
   "outputs": [],
   "source": [
    "filtered_df = df_cust_merge_1[df_cust_merge_1['exclusion_flag'] == False]\n"
   ]
  },
  {
   "cell_type": "code",
   "execution_count": 34,
   "id": "0f9c60d1-e700-4056-8afa-26cd0a92e19b",
   "metadata": {},
   "outputs": [
    {
     "data": {
      "text/plain": [
       "162631"
      ]
     },
     "execution_count": 34,
     "metadata": {},
     "output_type": "execute_result"
    }
   ],
   "source": [
    "filtered_df['user_id'].nunique()"
   ]
  },
  {
   "cell_type": "code",
   "execution_count": 35,
   "id": "3420fa30-3c08-4d9c-9dbb-7204ace9247b",
   "metadata": {},
   "outputs": [
    {
     "data": {
      "text/plain": [
       "206209"
      ]
     },
     "execution_count": 35,
     "metadata": {},
     "output_type": "execute_result"
    }
   ],
   "source": [
    "df_cust_merge_1['user_id'].nunique()"
   ]
  },
  {
   "cell_type": "code",
   "execution_count": 36,
   "id": "de062882-e9a3-4cba-b868-55a912384392",
   "metadata": {},
   "outputs": [],
   "source": [
    "unique_user_ids_by_exclusion=df_cust_merge_1.groupby('exclusion_flag')['user_id'].nunique()"
   ]
  },
  {
   "cell_type": "code",
   "execution_count": 37,
   "id": "f50c6f00-6aab-490f-989e-9926e8df45a5",
   "metadata": {},
   "outputs": [
    {
     "name": "stdout",
     "output_type": "stream",
     "text": [
      "exclusion_flag\n",
      "False    162631\n",
      "True      43578\n",
      "Name: user_id, dtype: int64\n"
     ]
    }
   ],
   "source": [
    "print(unique_user_ids_by_exclusion)"
   ]
  },
  {
   "cell_type": "code",
   "execution_count": 38,
   "id": "687e3434-ebaa-477d-bde4-588d0f5eeb7f",
   "metadata": {},
   "outputs": [],
   "source": [
    "#Drop the 'exclusion_flag' column in the filtered  df\n",
    "filtered_df = filtered_df.drop(columns=['exclusion_flag'])"
   ]
  },
  {
   "cell_type": "code",
   "execution_count": 172,
   "id": "89d3b113-3db8-4b6a-b1bd-1d92de6c4506",
   "metadata": {},
   "outputs": [
    {
     "data": {
      "text/plain": [
       "(30964564, 36)"
      ]
     },
     "execution_count": 172,
     "metadata": {},
     "output_type": "execute_result"
    }
   ],
   "source": [
    "filtered_df.shape"
   ]
  },
  {
   "cell_type": "code",
   "execution_count": 174,
   "id": "9520614e-d076-4258-8f68-4807f6347dd3",
   "metadata": {},
   "outputs": [],
   "source": [
    "# Count the number of excluded rows (customers with fewer than 5 orders)\n",
    "excluded_rows = df_cust_merge_1[df_cust_merge_1['exclusion_flag'] == True]\n"
   ]
  },
  {
   "cell_type": "code",
   "execution_count": 175,
   "id": "8489e4f9-4c8c-4ddd-a73d-ba26da7d048d",
   "metadata": {},
   "outputs": [
    {
     "data": {
      "text/plain": [
       "(1440295, 32)"
      ]
     },
     "execution_count": 175,
     "metadata": {},
     "output_type": "execute_result"
    }
   ],
   "source": [
    "excluded_rows.shape"
   ]
  },
  {
   "cell_type": "code",
   "execution_count": 179,
   "id": "dec198a4-6676-408a-994c-bcf971a0f7a0",
   "metadata": {},
   "outputs": [],
   "source": [
    "# save changes \n",
    "filtered_df.to_pickle(os.path.join(path, '02 Data','Prepared Data', 'filtered_df_final.pkl'))"
   ]
  },
  {
   "cell_type": "markdown",
   "id": "bf6ce6d0-52e3-4808-a372-c2cf579a6881",
   "metadata": {},
   "source": [
    "# 5.Create a profiling variable based on age, income, certain goods in the “department_id” column, and number of dependents"
   ]
  },
  {
   "cell_type": "code",
   "execution_count": 41,
   "id": "f825a079-a8cd-47fd-b610-b3cf778b4e32",
   "metadata": {},
   "outputs": [],
   "source": [
    "# Specify columns for summary statistics\n",
    "columns_to_describe = ['Age', 'income', 'number_of_dependants']"
   ]
  },
  {
   "cell_type": "code",
   "execution_count": 42,
   "id": "14bd0b2e-e8d6-4d94-b5d0-f376bce62c75",
   "metadata": {},
   "outputs": [],
   "source": [
    "# Get summary statistics for specified columns\n",
    "summary_stats = filtered_df[columns_to_describe].describe()"
   ]
  },
  {
   "cell_type": "code",
   "execution_count": 43,
   "id": "2b69752b-63b4-4c7a-bf82-bf65b4aaa4ee",
   "metadata": {},
   "outputs": [
    {
     "name": "stdout",
     "output_type": "stream",
     "text": [
      "                Age        income  number_of_dependants\n",
      "count  3.096456e+07  3.096456e+07          3.096456e+07\n",
      "mean   4.946803e+01  9.967587e+04          1.501819e+00\n",
      "std    1.848528e+01  4.314187e+04          1.118896e+00\n",
      "min    1.800000e+01  2.590300e+04          0.000000e+00\n",
      "25%    3.300000e+01  6.729200e+04          1.000000e+00\n",
      "50%    4.900000e+01  9.676500e+04          2.000000e+00\n",
      "75%    6.500000e+01  1.281020e+05          3.000000e+00\n",
      "max    8.100000e+01  5.939010e+05          3.000000e+00\n"
     ]
    }
   ],
   "source": [
    "print(summary_stats)"
   ]
  },
  {
   "cell_type": "markdown",
   "id": "93023886-1863-4caf-bd65-e23c483d714a",
   "metadata": {},
   "source": [
    "# Assign profile based on conditions"
   ]
  },
  {
   "cell_type": "code",
   "execution_count": 100,
   "id": "e47bba8b-a6f9-448c-ac15-498995a0e878",
   "metadata": {},
   "outputs": [],
   "source": [
    "# Single Adult: Age <= 30, No Dependents\n",
    "filtered_df.loc[(filtered_df['Age'] <= 30) & (filtered_df['number_of_dependants'] == 0), 'profile'] = 'Single Young Adult'\n"
   ]
  },
  {
   "cell_type": "code",
   "execution_count": 99,
   "id": "becc9fdc-cbdb-44c5-9b7e-0ca8f4f6c011",
   "metadata": {},
   "outputs": [],
   "source": [
    "# Young Parent: Age <= 30, with Dependents\n",
    "filtered_df.loc[(filtered_df['Age'] <= 30) & (filtered_df['number_of_dependants'] > 0), 'profile'] = 'Young Parent'"
   ]
  },
  {
   "cell_type": "code",
   "execution_count": 98,
   "id": "31327a84-0950-4fc1-9840-b1f3f5abeb91",
   "metadata": {},
   "outputs": [],
   "source": [
    "# Mature Family: Age 30-60, with Dependents\n",
    "filtered_df.loc[(filtered_df['Age'] > 30) & (filtered_df['Age'] <= 60) & (filtered_df['number_of_dependants'] > 0), 'profile'] = 'Mature Family'\n"
   ]
  },
  {
   "cell_type": "code",
   "execution_count": 103,
   "id": "cc148c9a-8732-45d2-83c7-741503e346ed",
   "metadata": {},
   "outputs": [],
   "source": [
    "# Senior with dependents: Age > 60 and has dependents\n",
    "filtered_df.loc[(filtered_df['Age'] > 60) & (filtered_df['number_of_dependants'] > 0), 'profile'] = 'Senior with Dependents'"
   ]
  },
  {
   "cell_type": "code",
   "execution_count": 104,
   "id": "c210aa35-50f4-4159-b493-757478b72344",
   "metadata": {},
   "outputs": [],
   "source": [
    "# Senior without dependents: Age > 60 and no dependents\n",
    "filtered_df.loc[(filtered_df['Age'] > 60) & (filtered_df['number_of_dependants'] == 0), 'profile'] = 'Senior without Dependents'"
   ]
  },
  {
   "cell_type": "code",
   "execution_count": 102,
   "id": "39e3403c-2e5f-4d98-8d0a-20476b024633",
   "metadata": {},
   "outputs": [],
   "source": [
    "# Mature Single Adult: Age > 30, No Dependents\n",
    "filtered_df.loc[(filtered_df['Age'] > 30) &(filtered_df['Age'] <= 60)& (filtered_df['number_of_dependants'] == 0), 'profile'] = 'Mature Single Adult'"
   ]
  },
  {
   "cell_type": "code",
   "execution_count": 71,
   "id": "ac375cd2-fad1-4ba1-929d-171814b28902",
   "metadata": {},
   "outputs": [],
   "source": [
    "# Other\n",
    "filtered_df.loc[filtered_df['profile'].isna(), 'profile'] = 'Other'"
   ]
  },
  {
   "cell_type": "code",
   "execution_count": 53,
   "id": "0d9400f0-6331-4c4c-9126-1dc8e8910170",
   "metadata": {},
   "outputs": [],
   "source": [
    "# Define income brackets\n",
    "filtered_df['income_level'] = pd.cut(filtered_df['income'], bins=[0, 50000, 100000, 1000000], labels=['Low Income', 'Medium Income', 'High Income'])\n"
   ]
  },
  {
   "cell_type": "code",
   "execution_count": 55,
   "id": "6d7f8a8f-d3d1-4b47-b912-8449f388b96f",
   "metadata": {},
   "outputs": [],
   "source": [
    "# change type for income level\n",
    "filtered_df['income_level'] = filtered_df['income_level'].astype(str)\n",
    "\n",
    "\n"
   ]
  },
  {
   "cell_type": "code",
   "execution_count": 182,
   "id": "96423ecf-1739-4f64-b072-789008d4b8ca",
   "metadata": {},
   "outputs": [],
   "source": [
    "# Group by income level and count unique 'user_id's\n",
    "income = filtered_df.groupby('income_level')['user_id'].nunique()"
   ]
  },
  {
   "cell_type": "code",
   "execution_count": 184,
   "id": "5facb1fa-7dab-42c2-aaa3-0e5278b97212",
   "metadata": {},
   "outputs": [
    {
     "data": {
      "text/plain": [
       "<function matplotlib.pyplot.show(close=None, block=None)>"
      ]
     },
     "execution_count": 184,
     "metadata": {},
     "output_type": "execute_result"
    },
    {
     "data": {
      "image/png": "[encoded data removed]",
      "text/plain": [
       "<Figure size 640x480 with 1 Axes>"
      ]
     },
     "metadata": {},
     "output_type": "display_data"
    }
   ],
   "source": [
    "#making bar chart \n",
    "income_disctribution_bar= income.plot.bar(color=['blue', 'orange', 'green'])\n",
    "plt.title('Distribution of Users by Income Level')\n",
    "plt.xlabel('Income Level')\n",
    "plt.ylabel('Number of Users')\n",
    "plt.show"
   ]
  },
  {
   "cell_type": "code",
   "execution_count": 186,
   "id": "ad3563df-ed53-4924-9d8d-b4e598086db3",
   "metadata": {},
   "outputs": [],
   "source": [
    "# Export the bar chart\n",
    "income_disctribution_bar.figure.savefig(os.path.join(path, '04 Analysis','Visualizations', 'income_distribution_bar.png'))"
   ]
  },
  {
   "cell_type": "code",
   "execution_count": 105,
   "id": "398670bd-155e-4384-abaf-4526c9f8808a",
   "metadata": {},
   "outputs": [],
   "source": [
    "# Group by 'profile' and 'income_level' and count unique user IDs\n",
    "result_1 = filtered_df.groupby(['profile', 'income_level'])['user_id'].nunique()"
   ]
  },
  {
   "cell_type": "code",
   "execution_count": 107,
   "id": "c39c0d19-f6bc-475c-9443-aa2b2b9f5174",
   "metadata": {},
   "outputs": [
    {
     "name": "stdout",
     "output_type": "stream",
     "text": [
      "profile                    income_level \n",
      "Mature Family              High Income      25572\n",
      "                           Low Income        8808\n",
      "                           Medium Income    22805\n",
      "Mature Single Adult        High Income       8580\n",
      "                           Low Income        2918\n",
      "                           Medium Income     7653\n",
      "Senior with Dependents     High Income      26290\n",
      "                           Low Income        4894\n",
      "                           Medium Income     8892\n",
      "Senior without Dependents  High Income       8723\n",
      "                           Low Income        1625\n",
      "                           Medium Income     2865\n",
      "Single Young Adult         High Income        232\n",
      "                           Low Income        1805\n",
      "                           Medium Income     6326\n",
      "Young Parent               High Income        683\n",
      "                           Low Income        5142\n",
      "                           Medium Income    18818\n",
      "Name: user_id, dtype: int64\n"
     ]
    }
   ],
   "source": [
    "print (result_1)"
   ]
  },
  {
   "cell_type": "markdown",
   "id": "7b5d4f09-c567-424a-bdfd-1b0a42091c78",
   "metadata": {},
   "source": [
    "# 6. Visualize"
   ]
  },
  {
   "cell_type": "code",
   "execution_count": 61,
   "id": "a184ce4f-5771-43e8-a370-1a8f6e8cdf83",
   "metadata": {},
   "outputs": [],
   "source": [
    "import matplotlib.pyplot as plt\n",
    "import seaborn as sns\n",
    "import scipy"
   ]
  },
  {
   "cell_type": "code",
   "execution_count": 108,
   "id": "d43afd78-48e0-46eb-856e-f545748a8649",
   "metadata": {},
   "outputs": [],
   "source": [
    "# Group by 'profile' and count unique 'user_id's\n",
    "profile = filtered_df.groupby('profile')['user_id'].nunique()"
   ]
  },
  {
   "cell_type": "code",
   "execution_count": 192,
   "id": "ad8cfa6b-757f-4d6c-82a0-7ecbf84c3154",
   "metadata": {},
   "outputs": [
    {
     "data": {
      "text/plain": [
       "(array([0, 1, 2, 3, 4, 5]),\n",
       " [Text(0, 0, 'Mature Family'),\n",
       "  Text(1, 0, 'Mature Single Adult'),\n",
       "  Text(2, 0, 'Senior with Dependents'),\n",
       "  Text(3, 0, 'Senior without Dependents'),\n",
       "  Text(4, 0, 'Single Young Adult'),\n",
       "  Text(5, 0, 'Young Parent')])"
      ]
     },
     "execution_count": 192,
     "metadata": {},
     "output_type": "execute_result"
    },
    {
     "data": {
      "image/png": "[encoded data removed]",
      "text/plain": [
       "<Figure size 1000x600 with 1 Axes>"
      ]
     },
     "metadata": {},
     "output_type": "display_data"
    }
   ],
   "source": [
    "# Bar Chart\n",
    "plt.figure(figsize=(10, 6))\n",
    "profile_bar=profile.plot(kind='bar', color=['blue', 'orange', 'green', 'red', 'purple']) \n",
    "plt.title('Unique User Count by Profile')\n",
    "plt.xlabel('Profile')\n",
    "plt.ylabel('Unique User Count')\n",
    "plt.xticks(rotation=90)"
   ]
  },
  {
   "cell_type": "code",
   "execution_count": 193,
   "id": "4b95598e-e188-43fe-8a6b-16e279bf486c",
   "metadata": {},
   "outputs": [],
   "source": [
    "# Export the bar chart\n",
    "profile_bar.figure.savefig(os.path.join(path, '04 Analysis','Visualizations', 'profile_bar.png'))"
   ]
  },
  {
   "cell_type": "code",
   "execution_count": 194,
   "id": "adf0b02c-0545-42dc-b73a-42d460a5cc3a",
   "metadata": {},
   "outputs": [
    {
     "data": {
      "text/plain": [
       "Text(0, 0.5, '')"
      ]
     },
     "execution_count": 194,
     "metadata": {},
     "output_type": "execute_result"
    },
    {
     "data": {
      "image/png": "[encoded data removed]",
      "text/plain": [
       "<Figure size 800x800 with 1 Axes>"
      ]
     },
     "metadata": {},
     "output_type": "display_data"
    }
   ],
   "source": [
    "# Pie Chart\n",
    "plt.figure(figsize=(8, 8))\n",
    "profile_pie=profile.plot(kind='pie', autopct='%1.1f%%', colors=['lightblue', 'lightcoral','lightgrey', 'lightgreen', 'lightyellow', 'lightpink'], legend=False)  # Inline colors for the pie chart\n",
    "plt.title('User Distribution by Profile')\n",
    "plt.ylabel('')"
   ]
  },
  {
   "cell_type": "code",
   "execution_count": 195,
   "id": "174902b0-bc74-453a-9a73-d2a291477f92",
   "metadata": {},
   "outputs": [],
   "source": [
    "# Export chart\n",
    "profile_pie.figure.savefig(os.path.join(path, '04 Analysis','Visualizations', 'profile_pie.png'))"
   ]
  },
  {
   "cell_type": "code",
   "execution_count": 110,
   "id": "e70cf128-13f9-4882-a175-fc166dc48cdb",
   "metadata": {},
   "outputs": [],
   "source": [
    "# Group by 'profile' and 'income_level' and count unique 'user_id's\n",
    "profile_income = filtered_df.groupby(['profile', 'income_level'])['user_id'].nunique().unstack()"
   ]
  },
  {
   "cell_type": "code",
   "execution_count": 111,
   "id": "8561360f-2479-41ca-b8cf-877f64ae54bc",
   "metadata": {},
   "outputs": [
    {
     "data": {
      "text/plain": [
       "<Axes: xlabel='profile'>"
      ]
     },
     "execution_count": 111,
     "metadata": {},
     "output_type": "execute_result"
    },
    {
     "data": {
      "image/png": "[encoded data removed]",
      "text/plain": [
       "<Figure size 1000x600 with 1 Axes>"
      ]
     },
     "metadata": {},
     "output_type": "display_data"
    }
   ],
   "source": [
    "# Plot the data\n",
    "profile_income.plot.bar(stacked=True, figsize=(10, 6), colormap='viridis')\n"
   ]
  },
  {
   "cell_type": "markdown",
   "id": "c1d4b2fa-e961-488b-9a71-f92873b1d442",
   "metadata": {},
   "source": [
    "# Loyalty vs Profile"
   ]
  },
  {
   "cell_type": "code",
   "execution_count": 199,
   "id": "b4df5898-bdfa-434c-bd7d-ad36a8c3cdb6",
   "metadata": {},
   "outputs": [
    {
     "data": {
      "text/html": [
       "<div>\n",
       "<style scoped>\n",
       "    .dataframe tbody tr th:only-of-type {\n",
       "        vertical-align: middle;\n",
       "    }\n",
       "\n",
       "    .dataframe tbody tr th {\n",
       "        vertical-align: top;\n",
       "    }\n",
       "\n",
       "    .dataframe thead th {\n",
       "        text-align: right;\n",
       "    }\n",
       "</style>\n",
       "<table border=\"1\" class=\"dataframe\">\n",
       "  <thead>\n",
       "    <tr style=\"text-align: right;\">\n",
       "      <th>profile</th>\n",
       "      <th>Mature Family</th>\n",
       "      <th>Mature Single Adult</th>\n",
       "      <th>Senior with Dependents</th>\n",
       "      <th>Senior without Dependents</th>\n",
       "      <th>Single Young Adult</th>\n",
       "      <th>Young Parent</th>\n",
       "    </tr>\n",
       "    <tr>\n",
       "      <th>loyalty_flag</th>\n",
       "      <th></th>\n",
       "      <th></th>\n",
       "      <th></th>\n",
       "      <th></th>\n",
       "      <th></th>\n",
       "      <th></th>\n",
       "    </tr>\n",
       "  </thead>\n",
       "  <tbody>\n",
       "    <tr>\n",
       "      <th>Loyal customer</th>\n",
       "      <td>3628066</td>\n",
       "      <td>1232373</td>\n",
       "      <td>2515539</td>\n",
       "      <td>849145</td>\n",
       "      <td>507326</td>\n",
       "      <td>1551644</td>\n",
       "    </tr>\n",
       "    <tr>\n",
       "      <th>New customer</th>\n",
       "      <td>1684151</td>\n",
       "      <td>558749</td>\n",
       "      <td>1190856</td>\n",
       "      <td>388345</td>\n",
       "      <td>254171</td>\n",
       "      <td>727423</td>\n",
       "    </tr>\n",
       "    <tr>\n",
       "      <th>Regular customer</th>\n",
       "      <td>5602292</td>\n",
       "      <td>1842086</td>\n",
       "      <td>3873111</td>\n",
       "      <td>1295611</td>\n",
       "      <td>811875</td>\n",
       "      <td>2451801</td>\n",
       "    </tr>\n",
       "  </tbody>\n",
       "</table>\n",
       "</div>"
      ],
      "text/plain": [
       "profile           Mature Family  Mature Single Adult  Senior with Dependents  \\\n",
       "loyalty_flag                                                                   \n",
       "Loyal customer          3628066              1232373                 2515539   \n",
       "New customer            1684151               558749                 1190856   \n",
       "Regular customer        5602292              1842086                 3873111   \n",
       "\n",
       "profile           Senior without Dependents  Single Young Adult  Young Parent  \n",
       "loyalty_flag                                                                   \n",
       "Loyal customer                       849145              507326       1551644  \n",
       "New customer                         388345              254171        727423  \n",
       "Regular customer                    1295611              811875       2451801  "
      ]
     },
     "execution_count": 199,
     "metadata": {},
     "output_type": "execute_result"
    }
   ],
   "source": [
    "# Crosstab loyalty with profile\n",
    "loyalty_profile = pd.crosstab(filtered_df ['loyalty_flag'], filtered_df['profile'], dropna = False)\n",
    "loyalty_profile"
   ]
  },
  {
   "cell_type": "code",
   "execution_count": 201,
   "id": "a8d9d986-11a6-486c-ba79-eb91622ebcfb",
   "metadata": {},
   "outputs": [
    {
     "data": {
      "text/plain": [
       "(array([0, 1, 2]),\n",
       " [Text(0, 0, 'Loyal customer'),\n",
       "  Text(1, 0, 'New customer'),\n",
       "  Text(2, 0, 'Regular customer')])"
      ]
     },
     "execution_count": 201,
     "metadata": {},
     "output_type": "execute_result"
    },
    {
     "data": {
      "image/png": "[encoded data removed]",
      "text/plain": [
       "<Figure size 640x480 with 1 Axes>"
      ]
     },
     "metadata": {},
     "output_type": "display_data"
    }
   ],
   "source": [
    "# bar chart\n",
    "loyalty_profile_bar = loyalty_profile.plot.bar()\n",
    "plt.title('Loyalty by Profile')\n",
    "plt.xlabel('')\n",
    "plt.ylabel('count')\n",
    "plt.xticks(rotation=90)"
   ]
  },
  {
   "cell_type": "code",
   "execution_count": 202,
   "id": "d17ead13-59fe-4d76-9567-46a9afc992b2",
   "metadata": {},
   "outputs": [],
   "source": [
    "# Export the chart\n",
    "loyalty_profile_bar.figure.savefig(os.path.join(path, '04 Analysis','Visualizations', 'loyalty_profile_bar.png'))"
   ]
  },
  {
   "cell_type": "code",
   "execution_count": 275,
   "id": "56ad4044-de05-432a-970a-46e937d088c1",
   "metadata": {},
   "outputs": [
    {
     "data": {
      "text/plain": [
       "Family_status\n",
       "married                             21743711\n",
       "single                               5094410\n",
       "divorced/widowed                     2645271\n",
       "living with parents and siblings     1481172\n",
       "Name: count, dtype: int64"
      ]
     },
     "execution_count": 275,
     "metadata": {},
     "output_type": "execute_result"
    }
   ],
   "source": [
    "# distribution by family status\n",
    "fam_status = filtered_df['Family_status'].value_counts(dropna = False)\n",
    "fam_status"
   ]
  },
  {
   "cell_type": "code",
   "execution_count": 267,
   "id": "1ba33d46-fb60-4a55-a468-5739b02cf12f",
   "metadata": {},
   "outputs": [
    {
     "data": {
      "image/png": "[encoded data removed]",
      "text/plain": [
       "<Figure size 640x480 with 1 Axes>"
      ]
     },
     "metadata": {},
     "output_type": "display_data"
    }
   ],
   "source": [
    "# Pie chart showing the distribution of family status\n",
    "fam_status_pie = fam_status.plot.pie(autopct='%1.1f%%', labels= ['married', 'single', 'divorced/widowed', 'living with parents and siblings'], startangle=90, colors=['#D8B7DD', '#FFB3B3', '#B3CDE0', '#FFEB99'])\n",
    "plt.ylabel('') \n",
    "plt.title('Distribution of Family Status')\n",
    "plt.show()"
   ]
  },
  {
   "cell_type": "code",
   "execution_count": 268,
   "id": "c51a91dd-c23e-491c-92b4-f981ebfc2fe1",
   "metadata": {},
   "outputs": [],
   "source": [
    "# Export the chart\n",
    "fam_status_pie.figure.savefig(os.path.join(path, '04 Analysis','Visualizations', 'fam_status_pie.png'))"
   ]
  },
  {
   "cell_type": "code",
   "execution_count": 270,
   "id": "aacc9dda-cfcf-4d36-8adf-cd5753501d71",
   "metadata": {},
   "outputs": [
    {
     "data": {
      "text/html": [
       "<div>\n",
       "<style scoped>\n",
       "    .dataframe tbody tr th:only-of-type {\n",
       "        vertical-align: middle;\n",
       "    }\n",
       "\n",
       "    .dataframe tbody tr th {\n",
       "        vertical-align: top;\n",
       "    }\n",
       "\n",
       "    .dataframe thead th {\n",
       "        text-align: right;\n",
       "    }\n",
       "</style>\n",
       "<table border=\"1\" class=\"dataframe\">\n",
       "  <thead>\n",
       "    <tr style=\"text-align: right;\">\n",
       "      <th>Family_status</th>\n",
       "      <th>divorced/widowed</th>\n",
       "      <th>living with parents and siblings</th>\n",
       "      <th>married</th>\n",
       "      <th>single</th>\n",
       "    </tr>\n",
       "    <tr>\n",
       "      <th>loyalty_flag</th>\n",
       "      <th></th>\n",
       "      <th></th>\n",
       "      <th></th>\n",
       "      <th></th>\n",
       "    </tr>\n",
       "  </thead>\n",
       "  <tbody>\n",
       "    <tr>\n",
       "      <th>Loyal customer</th>\n",
       "      <td>882722</td>\n",
       "      <td>492749</td>\n",
       "      <td>7202500</td>\n",
       "      <td>1706122</td>\n",
       "    </tr>\n",
       "    <tr>\n",
       "      <th>New customer</th>\n",
       "      <td>403781</td>\n",
       "      <td>221779</td>\n",
       "      <td>3380651</td>\n",
       "      <td>797484</td>\n",
       "    </tr>\n",
       "    <tr>\n",
       "      <th>Regular customer</th>\n",
       "      <td>1358768</td>\n",
       "      <td>766644</td>\n",
       "      <td>11160560</td>\n",
       "      <td>2590804</td>\n",
       "    </tr>\n",
       "  </tbody>\n",
       "</table>\n",
       "</div>"
      ],
      "text/plain": [
       "Family_status     divorced/widowed  living with parents and siblings  \\\n",
       "loyalty_flag                                                           \n",
       "Loyal customer              882722                            492749   \n",
       "New customer                403781                            221779   \n",
       "Regular customer           1358768                            766644   \n",
       "\n",
       "Family_status      married   single  \n",
       "loyalty_flag                         \n",
       "Loyal customer     7202500  1706122  \n",
       "New customer       3380651   797484  \n",
       "Regular customer  11160560  2590804  "
      ]
     },
     "execution_count": 270,
     "metadata": {},
     "output_type": "execute_result"
    }
   ],
   "source": [
    "# Crosstab loyalty with family status\n",
    "loyalty_fam = pd.crosstab(filtered_df['loyalty_flag'], filtered_df['Family_status'], dropna = False)\n",
    "loyalty_fam"
   ]
  },
  {
   "cell_type": "code",
   "execution_count": 271,
   "id": "e1351a33-92d5-4c17-b8bf-ccb849d662a2",
   "metadata": {},
   "outputs": [
    {
     "data": {
      "text/plain": [
       "(array([0, 1, 2]),\n",
       " [Text(0, 0, 'Loyal customer'),\n",
       "  Text(1, 0, 'New customer'),\n",
       "  Text(2, 0, 'Regular customer')])"
      ]
     },
     "execution_count": 271,
     "metadata": {},
     "output_type": "execute_result"
    },
    {
     "data": {
      "image/png": "[encoded data removed]",
      "text/plain": [
       "<Figure size 640x480 with 1 Axes>"
      ]
     },
     "metadata": {},
     "output_type": "display_data"
    }
   ],
   "source": [
    "# bar chart\n",
    "loyalty_fam_bar = loyalty_fam.plot.bar()\n",
    "plt.title('Loyalty by Family Status')\n",
    "plt.xlabel('')\n",
    "plt.ylabel('count')\n",
    "plt.xticks(rotation=0)"
   ]
  },
  {
   "cell_type": "code",
   "execution_count": 272,
   "id": "838e325d-14a5-44f8-99ac-572963acc279",
   "metadata": {},
   "outputs": [],
   "source": [
    "# Export the chart\n",
    "loyalty_fam_bar.figure.savefig(os.path.join(path, '04 Analysis','Visualizations', 'loyalty_family_bar.png'))"
   ]
  },
  {
   "cell_type": "markdown",
   "id": "191ad28d-bb1c-47b0-af1e-ce31f9ca5a52",
   "metadata": {},
   "source": [
    "# Spending vs Profile"
   ]
  },
  {
   "cell_type": "code",
   "execution_count": 203,
   "id": "a1881472-4fee-49e7-8b53-3c185e28e05d",
   "metadata": {},
   "outputs": [
    {
     "data": {
      "text/html": [
       "<div>\n",
       "<style scoped>\n",
       "    .dataframe tbody tr th:only-of-type {\n",
       "        vertical-align: middle;\n",
       "    }\n",
       "\n",
       "    .dataframe tbody tr th {\n",
       "        vertical-align: top;\n",
       "    }\n",
       "\n",
       "    .dataframe thead th {\n",
       "        text-align: right;\n",
       "    }\n",
       "</style>\n",
       "<table border=\"1\" class=\"dataframe\">\n",
       "  <thead>\n",
       "    <tr style=\"text-align: right;\">\n",
       "      <th>profile</th>\n",
       "      <th>Mature Family</th>\n",
       "      <th>Mature Single Adult</th>\n",
       "      <th>Senior with Dependents</th>\n",
       "      <th>Senior without Dependents</th>\n",
       "      <th>Single Young Adult</th>\n",
       "      <th>Young Parent</th>\n",
       "    </tr>\n",
       "    <tr>\n",
       "      <th>spending_flag</th>\n",
       "      <th></th>\n",
       "      <th></th>\n",
       "      <th></th>\n",
       "      <th></th>\n",
       "      <th></th>\n",
       "      <th></th>\n",
       "    </tr>\n",
       "  </thead>\n",
       "  <tbody>\n",
       "    <tr>\n",
       "      <th>High spender</th>\n",
       "      <td>217027</td>\n",
       "      <td>71982</td>\n",
       "      <td>149735</td>\n",
       "      <td>49737</td>\n",
       "      <td>24323</td>\n",
       "      <td>90621</td>\n",
       "    </tr>\n",
       "    <tr>\n",
       "      <th>Low spender</th>\n",
       "      <td>10697482</td>\n",
       "      <td>3561226</td>\n",
       "      <td>7429771</td>\n",
       "      <td>2483364</td>\n",
       "      <td>1549049</td>\n",
       "      <td>4640247</td>\n",
       "    </tr>\n",
       "  </tbody>\n",
       "</table>\n",
       "</div>"
      ],
      "text/plain": [
       "profile        Mature Family  Mature Single Adult  Senior with Dependents  \\\n",
       "spending_flag                                                               \n",
       "High spender          217027                71982                  149735   \n",
       "Low spender         10697482              3561226                 7429771   \n",
       "\n",
       "profile        Senior without Dependents  Single Young Adult  Young Parent  \n",
       "spending_flag                                                               \n",
       "High spender                       49737               24323         90621  \n",
       "Low spender                      2483364             1549049       4640247  "
      ]
     },
     "execution_count": 203,
     "metadata": {},
     "output_type": "execute_result"
    }
   ],
   "source": [
    "# Crosstab spending with profile\n",
    "spending_profile = pd.crosstab(filtered_df ['spending_flag'], filtered_df ['profile'], dropna = False)\n",
    "spending_profile"
   ]
  },
  {
   "cell_type": "code",
   "execution_count": 204,
   "id": "2e9f9281-2723-4447-9d7f-83eaec73f779",
   "metadata": {},
   "outputs": [
    {
     "data": {
      "text/plain": [
       "(array([0, 1]), [Text(0, 0, 'High spender'), Text(1, 0, 'Low spender')])"
      ]
     },
     "execution_count": 204,
     "metadata": {},
     "output_type": "execute_result"
    },
    {
     "data": {
      "image/png": "[encoded data removed]",
      "text/plain": [
       "<Figure size 640x480 with 1 Axes>"
      ]
     },
     "metadata": {},
     "output_type": "display_data"
    }
   ],
   "source": [
    "# bar chart\n",
    "spending_profile_bar = spending_profile.plot.bar()\n",
    "plt.title('Spending by Profile')\n",
    "plt.xlabel('')\n",
    "plt.ylabel('count')\n",
    "plt.xticks(rotation=90)"
   ]
  },
  {
   "cell_type": "code",
   "execution_count": 205,
   "id": "4fc0130a-4eca-46e0-baa7-f4d1f6331e81",
   "metadata": {},
   "outputs": [],
   "source": [
    "# Export the chart\n",
    "spending_profile_bar.figure.savefig(os.path.join(path, '04 Analysis','Visualizations', 'spending_profile_bar.png'))"
   ]
  },
  {
   "cell_type": "markdown",
   "id": "15544edf-14d6-4cda-b684-40a214ca84ea",
   "metadata": {},
   "source": [
    "# Spending and loyalty vs income level"
   ]
  },
  {
   "cell_type": "code",
   "execution_count": 221,
   "id": "3f9c361f-84cc-4d57-9ce5-287b26581ec1",
   "metadata": {},
   "outputs": [],
   "source": [
    "# Crosstab loyalty with income\n",
    "loyalty_income = pd.crosstab(df_final['loyalty_flag'], df_final['income_level'], dropna = False)"
   ]
  },
  {
   "cell_type": "code",
   "execution_count": 222,
   "id": "d75fda4a-d6c3-4356-b4d5-5b83d0a9491b",
   "metadata": {},
   "outputs": [
    {
     "data": {
      "text/html": [
       "<div>\n",
       "<style scoped>\n",
       "    .dataframe tbody tr th:only-of-type {\n",
       "        vertical-align: middle;\n",
       "    }\n",
       "\n",
       "    .dataframe tbody tr th {\n",
       "        vertical-align: top;\n",
       "    }\n",
       "\n",
       "    .dataframe thead th {\n",
       "        text-align: right;\n",
       "    }\n",
       "</style>\n",
       "<table border=\"1\" class=\"dataframe\">\n",
       "  <thead>\n",
       "    <tr style=\"text-align: right;\">\n",
       "      <th>income_level</th>\n",
       "      <th>High Income</th>\n",
       "      <th>Low Income</th>\n",
       "      <th>Medium Income</th>\n",
       "    </tr>\n",
       "    <tr>\n",
       "      <th>loyalty_flag</th>\n",
       "      <th></th>\n",
       "      <th></th>\n",
       "      <th></th>\n",
       "    </tr>\n",
       "  </thead>\n",
       "  <tbody>\n",
       "    <tr>\n",
       "      <th>Loyal customer</th>\n",
       "      <td>4758209</td>\n",
       "      <td>1032934</td>\n",
       "      <td>4492950</td>\n",
       "    </tr>\n",
       "    <tr>\n",
       "      <th>New customer</th>\n",
       "      <td>2143551</td>\n",
       "      <td>627180</td>\n",
       "      <td>2032964</td>\n",
       "    </tr>\n",
       "    <tr>\n",
       "      <th>Regular customer</th>\n",
       "      <td>7305268</td>\n",
       "      <td>1702440</td>\n",
       "      <td>6869068</td>\n",
       "    </tr>\n",
       "  </tbody>\n",
       "</table>\n",
       "</div>"
      ],
      "text/plain": [
       "income_level      High Income  Low Income  Medium Income\n",
       "loyalty_flag                                            \n",
       "Loyal customer        4758209     1032934        4492950\n",
       "New customer          2143551      627180        2032964\n",
       "Regular customer      7305268     1702440        6869068"
      ]
     },
     "execution_count": 222,
     "metadata": {},
     "output_type": "execute_result"
    }
   ],
   "source": [
    "loyalty_income"
   ]
  },
  {
   "cell_type": "code",
   "execution_count": 223,
   "id": "3a19d52a-9d74-4352-8747-deb821f18be7",
   "metadata": {},
   "outputs": [
    {
     "data": {
      "text/plain": [
       "(array([0, 1, 2]),\n",
       " [Text(0, 0, 'Loyal customer'),\n",
       "  Text(1, 0, 'New customer'),\n",
       "  Text(2, 0, 'Regular customer')])"
      ]
     },
     "execution_count": 223,
     "metadata": {},
     "output_type": "execute_result"
    },
    {
     "data": {
      "image/png": "[encoded data removed]",
      "text/plain": [
       "<Figure size 640x480 with 1 Axes>"
      ]
     },
     "metadata": {},
     "output_type": "display_data"
    }
   ],
   "source": [
    "# bar chart\n",
    "loyalty_income_bar = loyalty_income.plot.bar()\n",
    "plt.title('Loyalty by Income Group')\n",
    "plt.xlabel('')\n",
    "plt.ylabel('count')\n",
    "plt.xticks(rotation=0)"
   ]
  },
  {
   "cell_type": "code",
   "execution_count": 224,
   "id": "fa7a740e-04ce-4404-9215-e4b8fdae5ca7",
   "metadata": {},
   "outputs": [],
   "source": [
    "# Export the chart\n",
    "loyalty_income_bar.figure.savefig(os.path.join(path, '04 Analysis','Visualizations', 'loyalty_income_bar.png'))"
   ]
  },
  {
   "cell_type": "code",
   "execution_count": 225,
   "id": "1230e7ea-8a26-4981-9e6e-63e26e865487",
   "metadata": {},
   "outputs": [
    {
     "data": {
      "text/html": [
       "<div>\n",
       "<style scoped>\n",
       "    .dataframe tbody tr th:only-of-type {\n",
       "        vertical-align: middle;\n",
       "    }\n",
       "\n",
       "    .dataframe tbody tr th {\n",
       "        vertical-align: top;\n",
       "    }\n",
       "\n",
       "    .dataframe thead th {\n",
       "        text-align: right;\n",
       "    }\n",
       "</style>\n",
       "<table border=\"1\" class=\"dataframe\">\n",
       "  <thead>\n",
       "    <tr style=\"text-align: right;\">\n",
       "      <th>spending_flag</th>\n",
       "      <th>High spender</th>\n",
       "      <th>Low spender</th>\n",
       "    </tr>\n",
       "    <tr>\n",
       "      <th>loyalty_flag</th>\n",
       "      <th></th>\n",
       "      <th></th>\n",
       "    </tr>\n",
       "  </thead>\n",
       "  <tbody>\n",
       "    <tr>\n",
       "      <th>Loyal customer</th>\n",
       "      <td>216600</td>\n",
       "      <td>10067493</td>\n",
       "    </tr>\n",
       "    <tr>\n",
       "      <th>New customer</th>\n",
       "      <td>84011</td>\n",
       "      <td>4719684</td>\n",
       "    </tr>\n",
       "    <tr>\n",
       "      <th>Regular customer</th>\n",
       "      <td>302814</td>\n",
       "      <td>15573962</td>\n",
       "    </tr>\n",
       "  </tbody>\n",
       "</table>\n",
       "</div>"
      ],
      "text/plain": [
       "spending_flag     High spender  Low spender\n",
       "loyalty_flag                               \n",
       "Loyal customer          216600     10067493\n",
       "New customer             84011      4719684\n",
       "Regular customer        302814     15573962"
      ]
     },
     "execution_count": 225,
     "metadata": {},
     "output_type": "execute_result"
    }
   ],
   "source": [
    "# Crosstab loyalty with spending\n",
    "loyalty_spending = pd.crosstab(df_final['loyalty_flag'], df_final['spending_flag'], dropna = False)\n",
    "loyalty_spending"
   ]
  },
  {
   "cell_type": "code",
   "execution_count": 226,
   "id": "3ce333c9-bdc0-4218-bf4c-db8ce94b52b0",
   "metadata": {},
   "outputs": [
    {
     "data": {
      "text/plain": [
       "(array([0, 1, 2]),\n",
       " [Text(0, 0, 'Loyal customer'),\n",
       "  Text(1, 0, 'New customer'),\n",
       "  Text(2, 0, 'Regular customer')])"
      ]
     },
     "execution_count": 226,
     "metadata": {},
     "output_type": "execute_result"
    },
    {
     "data": {
      "image/png": "[encoded data removed]",
      "text/plain": [
       "<Figure size 640x480 with 1 Axes>"
      ]
     },
     "metadata": {},
     "output_type": "display_data"
    }
   ],
   "source": [
    "# bar chart\n",
    "loyalty_spending_bar = loyalty_spending.plot.bar()\n",
    "plt.title('Loyalty by Spender chart')\n",
    "plt.xlabel('')\n",
    "plt.ylabel('count')\n",
    "plt.xticks(rotation=0)"
   ]
  },
  {
   "cell_type": "code",
   "execution_count": 227,
   "id": "c30d1972-df92-4086-b5a9-e6d74f3bab95",
   "metadata": {},
   "outputs": [],
   "source": [
    "# Export the chart\n",
    "loyalty_spending_bar.figure.savefig(os.path.join(path, '04 Analysis','Visualizations', 'loyalty_spending_bar.png'))"
   ]
  },
  {
   "cell_type": "markdown",
   "id": "d306b5a7-ab7a-4b97-9113-16cfb04c0cbc",
   "metadata": {},
   "source": [
    "# Departments stats"
   ]
  },
  {
   "cell_type": "code",
   "execution_count": 229,
   "id": "ed57aa4f-2d8c-4ac4-af4a-f097a2ac31f1",
   "metadata": {},
   "outputs": [
    {
     "data": {
      "image/png": "[encoded data removed]",
      "text/plain": [
       "<Figure size 640x480 with 1 Axes>"
      ]
     },
     "metadata": {},
     "output_type": "display_data"
    }
   ],
   "source": [
    "# bar chart frequency of orders vs department\n",
    "deps_bar = df_final['department'].value_counts(ascending=True).plot(kind='barh', color='green', xlabel = 'Count', title='Products Ordered by Department')"
   ]
  },
  {
   "cell_type": "code",
   "execution_count": 230,
   "id": "78b9fa13-0dc9-4706-a125-9bd2effc62f2",
   "metadata": {},
   "outputs": [],
   "source": [
    "# Export bar chart\n",
    "deps_bar.figure.savefig(os.path.join(path, '04 Analysis','Visualizations', 'deps_bar.png'))"
   ]
  },
  {
   "cell_type": "code",
   "execution_count": 231,
   "id": "34ddefa1-be59-45fe-9f3f-3e16d7b9e789",
   "metadata": {},
   "outputs": [
    {
     "data": {
      "text/html": [
       "<div>\n",
       "<style scoped>\n",
       "    .dataframe tbody tr th:only-of-type {\n",
       "        vertical-align: middle;\n",
       "    }\n",
       "\n",
       "    .dataframe tbody tr th {\n",
       "        vertical-align: top;\n",
       "    }\n",
       "\n",
       "    .dataframe thead th {\n",
       "        text-align: right;\n",
       "    }\n",
       "</style>\n",
       "<table border=\"1\" class=\"dataframe\">\n",
       "  <thead>\n",
       "    <tr style=\"text-align: right;\">\n",
       "      <th>department</th>\n",
       "      <th>alcohol</th>\n",
       "      <th>babies</th>\n",
       "      <th>bakery</th>\n",
       "      <th>beverages</th>\n",
       "      <th>breakfast</th>\n",
       "      <th>bulk</th>\n",
       "      <th>canned goods</th>\n",
       "      <th>dairy eggs</th>\n",
       "      <th>deli</th>\n",
       "      <th>dry goods pasta</th>\n",
       "      <th>...</th>\n",
       "      <th>household</th>\n",
       "      <th>international</th>\n",
       "      <th>meat seafood</th>\n",
       "      <th>missing</th>\n",
       "      <th>other</th>\n",
       "      <th>pantry</th>\n",
       "      <th>personal care</th>\n",
       "      <th>pets</th>\n",
       "      <th>produce</th>\n",
       "      <th>snacks</th>\n",
       "    </tr>\n",
       "    <tr>\n",
       "      <th>profile</th>\n",
       "      <th></th>\n",
       "      <th></th>\n",
       "      <th></th>\n",
       "      <th></th>\n",
       "      <th></th>\n",
       "      <th></th>\n",
       "      <th></th>\n",
       "      <th></th>\n",
       "      <th></th>\n",
       "      <th></th>\n",
       "      <th></th>\n",
       "      <th></th>\n",
       "      <th></th>\n",
       "      <th></th>\n",
       "      <th></th>\n",
       "      <th></th>\n",
       "      <th></th>\n",
       "      <th></th>\n",
       "      <th></th>\n",
       "      <th></th>\n",
       "      <th></th>\n",
       "    </tr>\n",
       "  </thead>\n",
       "  <tbody>\n",
       "    <tr>\n",
       "      <th>Mature Family</th>\n",
       "      <td>50225</td>\n",
       "      <td>145464</td>\n",
       "      <td>394317</td>\n",
       "      <td>905036</td>\n",
       "      <td>237248</td>\n",
       "      <td>11797</td>\n",
       "      <td>355937</td>\n",
       "      <td>1824231</td>\n",
       "      <td>351695</td>\n",
       "      <td>290866</td>\n",
       "      <td>...</td>\n",
       "      <td>248243</td>\n",
       "      <td>90632</td>\n",
       "      <td>238389</td>\n",
       "      <td>22781</td>\n",
       "      <td>11708</td>\n",
       "      <td>630606</td>\n",
       "      <td>150848</td>\n",
       "      <td>31977</td>\n",
       "      <td>3200094</td>\n",
       "      <td>977187</td>\n",
       "    </tr>\n",
       "    <tr>\n",
       "      <th>Mature Single Adult</th>\n",
       "      <td>18339</td>\n",
       "      <td>47839</td>\n",
       "      <td>132899</td>\n",
       "      <td>302937</td>\n",
       "      <td>78428</td>\n",
       "      <td>3765</td>\n",
       "      <td>118408</td>\n",
       "      <td>608731</td>\n",
       "      <td>119419</td>\n",
       "      <td>94510</td>\n",
       "      <td>...</td>\n",
       "      <td>79819</td>\n",
       "      <td>30058</td>\n",
       "      <td>77059</td>\n",
       "      <td>7605</td>\n",
       "      <td>4206</td>\n",
       "      <td>208292</td>\n",
       "      <td>49434</td>\n",
       "      <td>10918</td>\n",
       "      <td>1069557</td>\n",
       "      <td>323169</td>\n",
       "    </tr>\n",
       "    <tr>\n",
       "      <th>Senior with Dependents</th>\n",
       "      <td>34185</td>\n",
       "      <td>99836</td>\n",
       "      <td>274361</td>\n",
       "      <td>633122</td>\n",
       "      <td>163326</td>\n",
       "      <td>8372</td>\n",
       "      <td>248667</td>\n",
       "      <td>1263593</td>\n",
       "      <td>245870</td>\n",
       "      <td>200401</td>\n",
       "      <td>...</td>\n",
       "      <td>173938</td>\n",
       "      <td>61725</td>\n",
       "      <td>167245</td>\n",
       "      <td>15854</td>\n",
       "      <td>8361</td>\n",
       "      <td>436866</td>\n",
       "      <td>102503</td>\n",
       "      <td>22719</td>\n",
       "      <td>2224034</td>\n",
       "      <td>673537</td>\n",
       "    </tr>\n",
       "    <tr>\n",
       "      <th>Senior without Dependents</th>\n",
       "      <td>11443</td>\n",
       "      <td>33183</td>\n",
       "      <td>91656</td>\n",
       "      <td>211565</td>\n",
       "      <td>54213</td>\n",
       "      <td>2557</td>\n",
       "      <td>80818</td>\n",
       "      <td>424351</td>\n",
       "      <td>83097</td>\n",
       "      <td>67251</td>\n",
       "      <td>...</td>\n",
       "      <td>56041</td>\n",
       "      <td>20853</td>\n",
       "      <td>55190</td>\n",
       "      <td>4849</td>\n",
       "      <td>2726</td>\n",
       "      <td>145080</td>\n",
       "      <td>34843</td>\n",
       "      <td>7851</td>\n",
       "      <td>742363</td>\n",
       "      <td>226796</td>\n",
       "    </tr>\n",
       "    <tr>\n",
       "      <th>Single Young Adult</th>\n",
       "      <td>7045</td>\n",
       "      <td>22306</td>\n",
       "      <td>56840</td>\n",
       "      <td>130839</td>\n",
       "      <td>33791</td>\n",
       "      <td>1678</td>\n",
       "      <td>51794</td>\n",
       "      <td>261294</td>\n",
       "      <td>50866</td>\n",
       "      <td>42535</td>\n",
       "      <td>...</td>\n",
       "      <td>35498</td>\n",
       "      <td>13550</td>\n",
       "      <td>33629</td>\n",
       "      <td>3481</td>\n",
       "      <td>1782</td>\n",
       "      <td>90532</td>\n",
       "      <td>21928</td>\n",
       "      <td>4833</td>\n",
       "      <td>463521</td>\n",
       "      <td>140473</td>\n",
       "    </tr>\n",
       "    <tr>\n",
       "      <th>Young Parent</th>\n",
       "      <td>23390</td>\n",
       "      <td>61764</td>\n",
       "      <td>170755</td>\n",
       "      <td>388402</td>\n",
       "      <td>103844</td>\n",
       "      <td>5282</td>\n",
       "      <td>156450</td>\n",
       "      <td>794982</td>\n",
       "      <td>152887</td>\n",
       "      <td>126573</td>\n",
       "      <td>...</td>\n",
       "      <td>106318</td>\n",
       "      <td>39173</td>\n",
       "      <td>103269</td>\n",
       "      <td>10198</td>\n",
       "      <td>5628</td>\n",
       "      <td>271329</td>\n",
       "      <td>64750</td>\n",
       "      <td>14762</td>\n",
       "      <td>1379704</td>\n",
       "      <td>425244</td>\n",
       "    </tr>\n",
       "  </tbody>\n",
       "</table>\n",
       "<p>6 rows × 21 columns</p>\n",
       "</div>"
      ],
      "text/plain": [
       "department                 alcohol  babies  bakery  beverages  breakfast  \\\n",
       "profile                                                                    \n",
       "Mature Family                50225  145464  394317     905036     237248   \n",
       "Mature Single Adult          18339   47839  132899     302937      78428   \n",
       "Senior with Dependents       34185   99836  274361     633122     163326   \n",
       "Senior without Dependents    11443   33183   91656     211565      54213   \n",
       "Single Young Adult            7045   22306   56840     130839      33791   \n",
       "Young Parent                 23390   61764  170755     388402     103844   \n",
       "\n",
       "department                  bulk  canned goods  dairy eggs    deli  \\\n",
       "profile                                                              \n",
       "Mature Family              11797        355937     1824231  351695   \n",
       "Mature Single Adult         3765        118408      608731  119419   \n",
       "Senior with Dependents      8372        248667     1263593  245870   \n",
       "Senior without Dependents   2557         80818      424351   83097   \n",
       "Single Young Adult          1678         51794      261294   50866   \n",
       "Young Parent                5282        156450      794982  152887   \n",
       "\n",
       "department                 dry goods pasta  ...  household  international  \\\n",
       "profile                                     ...                             \n",
       "Mature Family                       290866  ...     248243          90632   \n",
       "Mature Single Adult                  94510  ...      79819          30058   \n",
       "Senior with Dependents              200401  ...     173938          61725   \n",
       "Senior without Dependents            67251  ...      56041          20853   \n",
       "Single Young Adult                   42535  ...      35498          13550   \n",
       "Young Parent                        126573  ...     106318          39173   \n",
       "\n",
       "department                 meat seafood  missing  other  pantry  \\\n",
       "profile                                                           \n",
       "Mature Family                    238389    22781  11708  630606   \n",
       "Mature Single Adult               77059     7605   4206  208292   \n",
       "Senior with Dependents           167245    15854   8361  436866   \n",
       "Senior without Dependents         55190     4849   2726  145080   \n",
       "Single Young Adult                33629     3481   1782   90532   \n",
       "Young Parent                     103269    10198   5628  271329   \n",
       "\n",
       "department                 personal care   pets  produce  snacks  \n",
       "profile                                                           \n",
       "Mature Family                     150848  31977  3200094  977187  \n",
       "Mature Single Adult                49434  10918  1069557  323169  \n",
       "Senior with Dependents            102503  22719  2224034  673537  \n",
       "Senior without Dependents          34843   7851   742363  226796  \n",
       "Single Young Adult                 21928   4833   463521  140473  \n",
       "Young Parent                       64750  14762  1379704  425244  \n",
       "\n",
       "[6 rows x 21 columns]"
      ]
     },
     "execution_count": 231,
     "metadata": {},
     "output_type": "execute_result"
    }
   ],
   "source": [
    "# crosstab profile vs department\n",
    "profile_dep = pd.crosstab(df_final['profile'], df_final['department'], dropna = False)\n",
    "profile_dep "
   ]
  },
  {
   "cell_type": "code",
   "execution_count": 232,
   "id": "41d7b310-1ff6-4662-a148-0fb8d140f6fc",
   "metadata": {},
   "outputs": [],
   "source": [
    "# Sort each row by values and keep top 5 departments for each profile\n",
    "top_departments = profile_dep.apply(lambda x: x.sort_values(ascending=False).head(5), axis=1)\n"
   ]
  },
  {
   "cell_type": "code",
   "execution_count": 234,
   "id": "96269db7-695e-4a50-bea3-d25dd064cd84",
   "metadata": {},
   "outputs": [
    {
     "data": {
      "image/png": "[encoded data removed]",
      "text/plain": [
       "<Figure size 1400x1000 with 1 Axes>"
      ]
     },
     "metadata": {},
     "output_type": "display_data"
    }
   ],
   "source": [
    "# Plot top 5 departments for each profile\n",
    "top_departments_profile=top_departments.plot(kind='barh', stacked=False, figsize=(14, 10))\n",
    "plt.title('Top 5 Departments by Profile')\n",
    "plt.xlabel('Product Count')\n",
    "plt.ylabel('Profile')\n",
    "plt.show()"
   ]
  },
  {
   "cell_type": "code",
   "execution_count": 236,
   "id": "5b75f9bf-3ade-4d2d-89b6-5f7ce0c17c35",
   "metadata": {},
   "outputs": [],
   "source": [
    "# Export bar chart\n",
    "top_departments_profile.figure.savefig(os.path.join(path, '04 Analysis','Visualizations', 'top_departments_profile_barh.png'))"
   ]
  },
  {
   "cell_type": "code",
   "execution_count": 237,
   "id": "dcb437b4-9a3e-423d-9104-34c07dea505b",
   "metadata": {},
   "outputs": [
    {
     "data": {
      "text/html": [
       "<div>\n",
       "<style scoped>\n",
       "    .dataframe tbody tr th:only-of-type {\n",
       "        vertical-align: middle;\n",
       "    }\n",
       "\n",
       "    .dataframe tbody tr th {\n",
       "        vertical-align: top;\n",
       "    }\n",
       "\n",
       "    .dataframe thead th {\n",
       "        text-align: right;\n",
       "    }\n",
       "</style>\n",
       "<table border=\"1\" class=\"dataframe\">\n",
       "  <thead>\n",
       "    <tr style=\"text-align: right;\">\n",
       "      <th>department</th>\n",
       "      <th>alcohol</th>\n",
       "      <th>babies</th>\n",
       "      <th>bakery</th>\n",
       "      <th>beverages</th>\n",
       "      <th>breakfast</th>\n",
       "      <th>bulk</th>\n",
       "      <th>canned goods</th>\n",
       "      <th>dairy eggs</th>\n",
       "      <th>deli</th>\n",
       "      <th>dry goods pasta</th>\n",
       "      <th>...</th>\n",
       "      <th>household</th>\n",
       "      <th>international</th>\n",
       "      <th>meat seafood</th>\n",
       "      <th>missing</th>\n",
       "      <th>other</th>\n",
       "      <th>pantry</th>\n",
       "      <th>personal care</th>\n",
       "      <th>pets</th>\n",
       "      <th>produce</th>\n",
       "      <th>snacks</th>\n",
       "    </tr>\n",
       "    <tr>\n",
       "      <th>income_level</th>\n",
       "      <th></th>\n",
       "      <th></th>\n",
       "      <th></th>\n",
       "      <th></th>\n",
       "      <th></th>\n",
       "      <th></th>\n",
       "      <th></th>\n",
       "      <th></th>\n",
       "      <th></th>\n",
       "      <th></th>\n",
       "      <th></th>\n",
       "      <th></th>\n",
       "      <th></th>\n",
       "      <th></th>\n",
       "      <th></th>\n",
       "      <th></th>\n",
       "      <th></th>\n",
       "      <th></th>\n",
       "      <th></th>\n",
       "      <th></th>\n",
       "      <th></th>\n",
       "    </tr>\n",
       "  </thead>\n",
       "  <tbody>\n",
       "    <tr>\n",
       "      <th>High Income</th>\n",
       "      <td>69142</td>\n",
       "      <td>196696</td>\n",
       "      <td>527703</td>\n",
       "      <td>1126437</td>\n",
       "      <td>297594</td>\n",
       "      <td>14218</td>\n",
       "      <td>485226</td>\n",
       "      <td>2406160</td>\n",
       "      <td>462089</td>\n",
       "      <td>392709</td>\n",
       "      <td>...</td>\n",
       "      <td>319958</td>\n",
       "      <td>119987</td>\n",
       "      <td>335535</td>\n",
       "      <td>29452</td>\n",
       "      <td>15749</td>\n",
       "      <td>839920</td>\n",
       "      <td>193412</td>\n",
       "      <td>45089</td>\n",
       "      <td>4236921</td>\n",
       "      <td>1104579</td>\n",
       "    </tr>\n",
       "    <tr>\n",
       "      <th>Low Income</th>\n",
       "      <td>18047</td>\n",
       "      <td>29240</td>\n",
       "      <td>106757</td>\n",
       "      <td>383121</td>\n",
       "      <td>91408</td>\n",
       "      <td>4676</td>\n",
       "      <td>78975</td>\n",
       "      <td>502363</td>\n",
       "      <td>106448</td>\n",
       "      <td>64481</td>\n",
       "      <td>...</td>\n",
       "      <td>87216</td>\n",
       "      <td>21636</td>\n",
       "      <td>34278</td>\n",
       "      <td>6547</td>\n",
       "      <td>3886</td>\n",
       "      <td>166061</td>\n",
       "      <td>47782</td>\n",
       "      <td>8612</td>\n",
       "      <td>826314</td>\n",
       "      <td>559529</td>\n",
       "    </tr>\n",
       "    <tr>\n",
       "      <th>Medium Income</th>\n",
       "      <td>57438</td>\n",
       "      <td>184456</td>\n",
       "      <td>486368</td>\n",
       "      <td>1062343</td>\n",
       "      <td>281848</td>\n",
       "      <td>14557</td>\n",
       "      <td>447873</td>\n",
       "      <td>2268659</td>\n",
       "      <td>435297</td>\n",
       "      <td>364946</td>\n",
       "      <td>...</td>\n",
       "      <td>292683</td>\n",
       "      <td>114368</td>\n",
       "      <td>304968</td>\n",
       "      <td>28769</td>\n",
       "      <td>14776</td>\n",
       "      <td>776724</td>\n",
       "      <td>183112</td>\n",
       "      <td>39359</td>\n",
       "      <td>4016038</td>\n",
       "      <td>1102298</td>\n",
       "    </tr>\n",
       "  </tbody>\n",
       "</table>\n",
       "<p>3 rows × 21 columns</p>\n",
       "</div>"
      ],
      "text/plain": [
       "department     alcohol  babies  bakery  beverages  breakfast   bulk  \\\n",
       "income_level                                                          \n",
       "High Income      69142  196696  527703    1126437     297594  14218   \n",
       "Low Income       18047   29240  106757     383121      91408   4676   \n",
       "Medium Income    57438  184456  486368    1062343     281848  14557   \n",
       "\n",
       "department     canned goods  dairy eggs    deli  dry goods pasta  ...  \\\n",
       "income_level                                                      ...   \n",
       "High Income          485226     2406160  462089           392709  ...   \n",
       "Low Income            78975      502363  106448            64481  ...   \n",
       "Medium Income        447873     2268659  435297           364946  ...   \n",
       "\n",
       "department     household  international  meat seafood  missing  other  pantry  \\\n",
       "income_level                                                                    \n",
       "High Income       319958         119987        335535    29452  15749  839920   \n",
       "Low Income         87216          21636         34278     6547   3886  166061   \n",
       "Medium Income     292683         114368        304968    28769  14776  776724   \n",
       "\n",
       "department     personal care   pets  produce   snacks  \n",
       "income_level                                           \n",
       "High Income           193412  45089  4236921  1104579  \n",
       "Low Income             47782   8612   826314   559529  \n",
       "Medium Income         183112  39359  4016038  1102298  \n",
       "\n",
       "[3 rows x 21 columns]"
      ]
     },
     "execution_count": 237,
     "metadata": {},
     "output_type": "execute_result"
    }
   ],
   "source": [
    "# crosstab income level vs department\n",
    "income_dep = pd.crosstab(df_final['income_level'], df_final['department'], dropna = False)\n",
    "income_dep"
   ]
  },
  {
   "cell_type": "code",
   "execution_count": 238,
   "id": "3034230e-ab9a-4992-9bea-35715710e73a",
   "metadata": {},
   "outputs": [
    {
     "data": {
      "text/plain": [
       "Text(0, 0.5, 'income group')"
      ]
     },
     "execution_count": 238,
     "metadata": {},
     "output_type": "execute_result"
    },
    {
     "data": {
      "image/png": "[encoded data removed]",
      "text/plain": [
       "<Figure size 1400x1000 with 1 Axes>"
      ]
     },
     "metadata": {},
     "output_type": "display_data"
    }
   ],
   "source": [
    "# bar chart\n",
    "income_dep_bar = income_dep.plot(kind = 'barh', figsize=(14,10))\n",
    "plt.title('Department Sales by Income Group')\n",
    "plt.xlabel('products count')\n",
    "plt.ylabel('income group')"
   ]
  },
  {
   "cell_type": "code",
   "execution_count": 239,
   "id": "f720ac92-addc-4103-b8dc-d1c8cb6886c8",
   "metadata": {},
   "outputs": [],
   "source": [
    "# Export bar chart\n",
    "income_dep_bar.figure.savefig(os.path.join(path, '04 Analysis','Visualizations', 'income_dep_bar.png'))"
   ]
  },
  {
   "cell_type": "markdown",
   "id": "43344b12-c503-4bfd-b3a5-02711a9f6829",
   "metadata": {},
   "source": [
    "# Updating 3b with filtered_df"
   ]
  },
  {
   "cell_type": "code",
   "execution_count": 241,
   "id": "22ba23bf-d584-41e3-8fec-3f8889ca16c6",
   "metadata": {},
   "outputs": [],
   "source": [
    "# Crosstab Region to spending flag\n",
    "region_spending= pd.crosstab(filtered_df['Region'], filtered_df['spending_flag'], dropna = False)"
   ]
  },
  {
   "cell_type": "code",
   "execution_count": 242,
   "id": "c39b5c30-eb03-440b-a1fe-5e3eebc9eb8e",
   "metadata": {},
   "outputs": [
    {
     "data": {
      "text/html": [
       "<div>\n",
       "<style scoped>\n",
       "    .dataframe tbody tr th:only-of-type {\n",
       "        vertical-align: middle;\n",
       "    }\n",
       "\n",
       "    .dataframe tbody tr th {\n",
       "        vertical-align: top;\n",
       "    }\n",
       "\n",
       "    .dataframe thead th {\n",
       "        text-align: right;\n",
       "    }\n",
       "</style>\n",
       "<table border=\"1\" class=\"dataframe\">\n",
       "  <thead>\n",
       "    <tr style=\"text-align: right;\">\n",
       "      <th>spending_flag</th>\n",
       "      <th>High spender</th>\n",
       "      <th>Low spender</th>\n",
       "    </tr>\n",
       "    <tr>\n",
       "      <th>Region</th>\n",
       "      <th></th>\n",
       "      <th></th>\n",
       "    </tr>\n",
       "  </thead>\n",
       "  <tbody>\n",
       "    <tr>\n",
       "      <th>Midwest</th>\n",
       "      <td>148678</td>\n",
       "      <td>7112835</td>\n",
       "    </tr>\n",
       "    <tr>\n",
       "      <th>Northeast</th>\n",
       "      <td>103120</td>\n",
       "      <td>5361565</td>\n",
       "    </tr>\n",
       "    <tr>\n",
       "      <th>South</th>\n",
       "      <td>199339</td>\n",
       "      <td>10111800</td>\n",
       "    </tr>\n",
       "    <tr>\n",
       "      <th>West</th>\n",
       "      <td>152288</td>\n",
       "      <td>7774939</td>\n",
       "    </tr>\n",
       "  </tbody>\n",
       "</table>\n",
       "</div>"
      ],
      "text/plain": [
       "spending_flag  High spender  Low spender\n",
       "Region                                  \n",
       "Midwest              148678      7112835\n",
       "Northeast            103120      5361565\n",
       "South                199339     10111800\n",
       "West                 152288      7774939"
      ]
     },
     "execution_count": 242,
     "metadata": {},
     "output_type": "execute_result"
    }
   ],
   "source": [
    "region_spending"
   ]
  },
  {
   "cell_type": "code",
   "execution_count": 243,
   "id": "25ef3e0f-1c1e-456d-8184-346fcd97180a",
   "metadata": {},
   "outputs": [],
   "source": [
    "# Group by 'Spending Flag' and 'Region' and count unique 'user_id' \n",
    "result_region = filtered_df.groupby(['spending_flag', 'Region'])['user_id'].nunique()"
   ]
  },
  {
   "cell_type": "code",
   "execution_count": 244,
   "id": "172dbd09-294e-43c5-8dd4-3ad6d2c3d6b0",
   "metadata": {},
   "outputs": [
    {
     "data": {
      "text/plain": [
       "spending_flag  Region   \n",
       "High spender   Midwest        883\n",
       "               Northeast      613\n",
       "               South         1259\n",
       "               West           946\n",
       "Low spender    Midwest      37493\n",
       "               Northeast    27968\n",
       "               South        52934\n",
       "               West         40535\n",
       "Name: user_id, dtype: int64"
      ]
     },
     "execution_count": 244,
     "metadata": {},
     "output_type": "execute_result"
    }
   ],
   "source": [
    "result_region"
   ]
  },
  {
   "cell_type": "code",
   "execution_count": 248,
   "id": "db988741-9e48-4b16-bdeb-7be251eebd46",
   "metadata": {},
   "outputs": [
    {
     "data": {
      "text/plain": [
       "(array([0, 1, 2, 3]),\n",
       " [Text(0, 0, 'Midwest'),\n",
       "  Text(1, 0, 'Northeast'),\n",
       "  Text(2, 0, 'South'),\n",
       "  Text(3, 0, 'West')])"
      ]
     },
     "execution_count": 248,
     "metadata": {},
     "output_type": "execute_result"
    },
    {
     "data": {
      "image/png": "[encoded data removed]",
      "text/plain": [
       "<Figure size 640x480 with 1 Axes>"
      ]
     },
     "metadata": {},
     "output_type": "display_data"
    }
   ],
   "source": [
    "# bar chart\n",
    "region_spending_bar = region_spending.plot.bar()\n",
    "plt.title('Spending by Region')\n",
    "plt.xlabel('')\n",
    "plt.ylabel('count')\n",
    "plt.xticks(rotation=90)"
   ]
  },
  {
   "cell_type": "code",
   "execution_count": 249,
   "id": "46549b2d-7407-4966-96ee-bea1193e4924",
   "metadata": {},
   "outputs": [],
   "source": [
    "# Export the chart\n",
    "region_spending_bar.figure.savefig(os.path.join(path, '04 Analysis','Visualizations', 'region_spending_bar.png'))"
   ]
  },
  {
   "cell_type": "markdown",
   "id": "0a527b9b-5a90-46b3-8ede-1f57d9397c32",
   "metadata": {},
   "source": [
    "# 7. Aggregate the max, mean, and min variables on a customer-profile level for usage frequency and expenditure."
   ]
  },
  {
   "cell_type": "code",
   "execution_count": 253,
   "id": "b469b243-38e2-47e3-b782-524128eb7542",
   "metadata": {},
   "outputs": [],
   "source": [
    "# Create a subset of customer profiles and show the total price of each order\n",
    "customer_profile = df_final.groupby(['user_id', 'Gender', 'STATE', 'Region', 'Family_status','number_of_dependants','Age', 'profile','order_number',  'orders_day_of_week', 'order_time', 'loyalty_flag', 'frequency_flag', 'income_level', 'spending_flag'])['prices'].sum().reset_index()"
   ]
  },
  {
   "cell_type": "code",
   "execution_count": 254,
   "id": "a1943778-269e-4adb-a09c-19f6e51adfdd",
   "metadata": {},
   "outputs": [
    {
     "data": {
      "text/html": [
       "<div>\n",
       "<style scoped>\n",
       "    .dataframe tbody tr th:only-of-type {\n",
       "        vertical-align: middle;\n",
       "    }\n",
       "\n",
       "    .dataframe tbody tr th {\n",
       "        vertical-align: top;\n",
       "    }\n",
       "\n",
       "    .dataframe thead th {\n",
       "        text-align: right;\n",
       "    }\n",
       "</style>\n",
       "<table border=\"1\" class=\"dataframe\">\n",
       "  <thead>\n",
       "    <tr style=\"text-align: right;\">\n",
       "      <th></th>\n",
       "      <th>user_id</th>\n",
       "      <th>Gender</th>\n",
       "      <th>STATE</th>\n",
       "      <th>Region</th>\n",
       "      <th>Family_status</th>\n",
       "      <th>number_of_dependants</th>\n",
       "      <th>Age</th>\n",
       "      <th>profile</th>\n",
       "      <th>order_number</th>\n",
       "      <th>orders_day_of_week</th>\n",
       "      <th>order_time</th>\n",
       "      <th>loyalty_flag</th>\n",
       "      <th>frequency_flag</th>\n",
       "      <th>income_level</th>\n",
       "      <th>spending_flag</th>\n",
       "      <th>prices</th>\n",
       "    </tr>\n",
       "  </thead>\n",
       "  <tbody>\n",
       "    <tr>\n",
       "      <th>0</th>\n",
       "      <td>1</td>\n",
       "      <td>Female</td>\n",
       "      <td>Alabama</td>\n",
       "      <td>South</td>\n",
       "      <td>married</td>\n",
       "      <td>3</td>\n",
       "      <td>31</td>\n",
       "      <td>Mature Family</td>\n",
       "      <td>1</td>\n",
       "      <td>2</td>\n",
       "      <td>8</td>\n",
       "      <td>New customer</td>\n",
       "      <td>Non-frequent customer</td>\n",
       "      <td>Low Income</td>\n",
       "      <td>Low spender</td>\n",
       "      <td>31.600000</td>\n",
       "    </tr>\n",
       "    <tr>\n",
       "      <th>1</th>\n",
       "      <td>1</td>\n",
       "      <td>Female</td>\n",
       "      <td>Alabama</td>\n",
       "      <td>South</td>\n",
       "      <td>married</td>\n",
       "      <td>3</td>\n",
       "      <td>31</td>\n",
       "      <td>Mature Family</td>\n",
       "      <td>2</td>\n",
       "      <td>3</td>\n",
       "      <td>7</td>\n",
       "      <td>New customer</td>\n",
       "      <td>Non-frequent customer</td>\n",
       "      <td>Low Income</td>\n",
       "      <td>Low spender</td>\n",
       "      <td>35.400002</td>\n",
       "    </tr>\n",
       "    <tr>\n",
       "      <th>2</th>\n",
       "      <td>1</td>\n",
       "      <td>Female</td>\n",
       "      <td>Alabama</td>\n",
       "      <td>South</td>\n",
       "      <td>married</td>\n",
       "      <td>3</td>\n",
       "      <td>31</td>\n",
       "      <td>Mature Family</td>\n",
       "      <td>3</td>\n",
       "      <td>3</td>\n",
       "      <td>12</td>\n",
       "      <td>New customer</td>\n",
       "      <td>Non-frequent customer</td>\n",
       "      <td>Low Income</td>\n",
       "      <td>Low spender</td>\n",
       "      <td>28.200001</td>\n",
       "    </tr>\n",
       "    <tr>\n",
       "      <th>3</th>\n",
       "      <td>1</td>\n",
       "      <td>Female</td>\n",
       "      <td>Alabama</td>\n",
       "      <td>South</td>\n",
       "      <td>married</td>\n",
       "      <td>3</td>\n",
       "      <td>31</td>\n",
       "      <td>Mature Family</td>\n",
       "      <td>4</td>\n",
       "      <td>4</td>\n",
       "      <td>7</td>\n",
       "      <td>New customer</td>\n",
       "      <td>Non-frequent customer</td>\n",
       "      <td>Low Income</td>\n",
       "      <td>Low spender</td>\n",
       "      <td>26.000000</td>\n",
       "    </tr>\n",
       "    <tr>\n",
       "      <th>4</th>\n",
       "      <td>1</td>\n",
       "      <td>Female</td>\n",
       "      <td>Alabama</td>\n",
       "      <td>South</td>\n",
       "      <td>married</td>\n",
       "      <td>3</td>\n",
       "      <td>31</td>\n",
       "      <td>Mature Family</td>\n",
       "      <td>5</td>\n",
       "      <td>4</td>\n",
       "      <td>15</td>\n",
       "      <td>New customer</td>\n",
       "      <td>Non-frequent customer</td>\n",
       "      <td>Low Income</td>\n",
       "      <td>Low spender</td>\n",
       "      <td>57.000000</td>\n",
       "    </tr>\n",
       "  </tbody>\n",
       "</table>\n",
       "</div>"
      ],
      "text/plain": [
       "  user_id  Gender    STATE Region Family_status  number_of_dependants  Age  \\\n",
       "0       1  Female  Alabama  South       married                     3   31   \n",
       "1       1  Female  Alabama  South       married                     3   31   \n",
       "2       1  Female  Alabama  South       married                     3   31   \n",
       "3       1  Female  Alabama  South       married                     3   31   \n",
       "4       1  Female  Alabama  South       married                     3   31   \n",
       "\n",
       "         profile  order_number  orders_day_of_week  order_time  loyalty_flag  \\\n",
       "0  Mature Family             1                   2           8  New customer   \n",
       "1  Mature Family             2                   3           7  New customer   \n",
       "2  Mature Family             3                   3          12  New customer   \n",
       "3  Mature Family             4                   4           7  New customer   \n",
       "4  Mature Family             5                   4          15  New customer   \n",
       "\n",
       "          frequency_flag income_level spending_flag     prices  \n",
       "0  Non-frequent customer   Low Income   Low spender  31.600000  \n",
       "1  Non-frequent customer   Low Income   Low spender  35.400002  \n",
       "2  Non-frequent customer   Low Income   Low spender  28.200001  \n",
       "3  Non-frequent customer   Low Income   Low spender  26.000000  \n",
       "4  Non-frequent customer   Low Income   Low spender  57.000000  "
      ]
     },
     "execution_count": 254,
     "metadata": {},
     "output_type": "execute_result"
    }
   ],
   "source": [
    "customer_profile.head()"
   ]
  },
  {
   "cell_type": "code",
   "execution_count": 273,
   "id": "b0019883-389e-4f92-8c8a-4180cc14a501",
   "metadata": {},
   "outputs": [],
   "source": [
    "#  Aggregated variables for expenditure\n",
    "customer_aggregate = customer_profile.groupby('user_id').agg({'order_number': ['max', 'min', 'mean'], 'prices': ['max', 'min', 'mean']})"
   ]
  },
  {
   "cell_type": "code",
   "execution_count": 257,
   "id": "d103dcb0-cc41-4028-a017-a14bc8c0ac13",
   "metadata": {},
   "outputs": [
    {
     "data": {
      "text/html": [
       "<div>\n",
       "<style scoped>\n",
       "    .dataframe tbody tr th:only-of-type {\n",
       "        vertical-align: middle;\n",
       "    }\n",
       "\n",
       "    .dataframe tbody tr th {\n",
       "        vertical-align: top;\n",
       "    }\n",
       "\n",
       "    .dataframe thead tr th {\n",
       "        text-align: left;\n",
       "    }\n",
       "\n",
       "    .dataframe thead tr:last-of-type th {\n",
       "        text-align: right;\n",
       "    }\n",
       "</style>\n",
       "<table border=\"1\" class=\"dataframe\">\n",
       "  <thead>\n",
       "    <tr>\n",
       "      <th></th>\n",
       "      <th colspan=\"3\" halign=\"left\">order_number</th>\n",
       "      <th colspan=\"3\" halign=\"left\">prices</th>\n",
       "    </tr>\n",
       "    <tr>\n",
       "      <th></th>\n",
       "      <th>max</th>\n",
       "      <th>min</th>\n",
       "      <th>mean</th>\n",
       "      <th>max</th>\n",
       "      <th>min</th>\n",
       "      <th>mean</th>\n",
       "    </tr>\n",
       "    <tr>\n",
       "      <th>user_id</th>\n",
       "      <th></th>\n",
       "      <th></th>\n",
       "      <th></th>\n",
       "      <th></th>\n",
       "      <th></th>\n",
       "      <th></th>\n",
       "    </tr>\n",
       "  </thead>\n",
       "  <tbody>\n",
       "    <tr>\n",
       "      <th>1</th>\n",
       "      <td>10</td>\n",
       "      <td>1</td>\n",
       "      <td>5.5</td>\n",
       "      <td>63.099998</td>\n",
       "      <td>25.000000</td>\n",
       "      <td>37.570000</td>\n",
       "    </tr>\n",
       "    <tr>\n",
       "      <th>10</th>\n",
       "      <td>5</td>\n",
       "      <td>1</td>\n",
       "      <td>3.0</td>\n",
       "      <td>429.600006</td>\n",
       "      <td>39.099998</td>\n",
       "      <td>247.419998</td>\n",
       "    </tr>\n",
       "    <tr>\n",
       "      <th>100</th>\n",
       "      <td>5</td>\n",
       "      <td>1</td>\n",
       "      <td>3.0</td>\n",
       "      <td>97.599998</td>\n",
       "      <td>23.400002</td>\n",
       "      <td>53.240002</td>\n",
       "    </tr>\n",
       "    <tr>\n",
       "      <th>1000</th>\n",
       "      <td>7</td>\n",
       "      <td>1</td>\n",
       "      <td>4.0</td>\n",
       "      <td>134.399994</td>\n",
       "      <td>112.900002</td>\n",
       "      <td>123.714287</td>\n",
       "    </tr>\n",
       "    <tr>\n",
       "      <th>10000</th>\n",
       "      <td>72</td>\n",
       "      <td>1</td>\n",
       "      <td>36.5</td>\n",
       "      <td>298.200012</td>\n",
       "      <td>11.800000</td>\n",
       "      <td>122.022217</td>\n",
       "    </tr>\n",
       "    <tr>\n",
       "      <th>...</th>\n",
       "      <td>...</td>\n",
       "      <td>...</td>\n",
       "      <td>...</td>\n",
       "      <td>...</td>\n",
       "      <td>...</td>\n",
       "      <td>...</td>\n",
       "    </tr>\n",
       "    <tr>\n",
       "      <th>99994</th>\n",
       "      <td>11</td>\n",
       "      <td>1</td>\n",
       "      <td>6.0</td>\n",
       "      <td>174.000000</td>\n",
       "      <td>86.199997</td>\n",
       "      <td>126.800003</td>\n",
       "    </tr>\n",
       "    <tr>\n",
       "      <th>99995</th>\n",
       "      <td>5</td>\n",
       "      <td>1</td>\n",
       "      <td>3.0</td>\n",
       "      <td>132.500000</td>\n",
       "      <td>42.599998</td>\n",
       "      <td>79.580002</td>\n",
       "    </tr>\n",
       "    <tr>\n",
       "      <th>99996</th>\n",
       "      <td>12</td>\n",
       "      <td>1</td>\n",
       "      <td>6.5</td>\n",
       "      <td>127.100006</td>\n",
       "      <td>2.800000</td>\n",
       "      <td>79.049995</td>\n",
       "    </tr>\n",
       "    <tr>\n",
       "      <th>99998</th>\n",
       "      <td>5</td>\n",
       "      <td>1</td>\n",
       "      <td>3.0</td>\n",
       "      <td>51.200001</td>\n",
       "      <td>20.799999</td>\n",
       "      <td>38.020000</td>\n",
       "    </tr>\n",
       "    <tr>\n",
       "      <th>99999</th>\n",
       "      <td>34</td>\n",
       "      <td>1</td>\n",
       "      <td>17.5</td>\n",
       "      <td>159.699997</td>\n",
       "      <td>6.700000</td>\n",
       "      <td>70.541176</td>\n",
       "    </tr>\n",
       "  </tbody>\n",
       "</table>\n",
       "<p>162631 rows × 6 columns</p>\n",
       "</div>"
      ],
      "text/plain": [
       "        order_number                prices                        \n",
       "                 max min  mean         max         min        mean\n",
       "user_id                                                           \n",
       "1                 10   1   5.5   63.099998   25.000000   37.570000\n",
       "10                 5   1   3.0  429.600006   39.099998  247.419998\n",
       "100                5   1   3.0   97.599998   23.400002   53.240002\n",
       "1000               7   1   4.0  134.399994  112.900002  123.714287\n",
       "10000             72   1  36.5  298.200012   11.800000  122.022217\n",
       "...              ...  ..   ...         ...         ...         ...\n",
       "99994             11   1   6.0  174.000000   86.199997  126.800003\n",
       "99995              5   1   3.0  132.500000   42.599998   79.580002\n",
       "99996             12   1   6.5  127.100006    2.800000   79.049995\n",
       "99998              5   1   3.0   51.200001   20.799999   38.020000\n",
       "99999             34   1  17.5  159.699997    6.700000   70.541176\n",
       "\n",
       "[162631 rows x 6 columns]"
      ]
     },
     "execution_count": 257,
     "metadata": {},
     "output_type": "execute_result"
    }
   ],
   "source": [
    "customer_aggregate"
   ]
  },
  {
   "cell_type": "code",
   "execution_count": 258,
   "id": "a13c9c32-9a8a-43c2-8c04-de0d2e4a5f75",
   "metadata": {},
   "outputs": [],
   "source": [
    "# Aggregate variables for usage frequency\n",
    "freq_aggregate = filtered_df.groupby('user_id').agg({'order_number': ['max', 'min', 'mean'], 'days_since_prior_order': ['max', 'min', 'mean']})"
   ]
  },
  {
   "cell_type": "code",
   "execution_count": 259,
   "id": "e18ada65-ce6c-4328-902c-b386a70cd8e8",
   "metadata": {},
   "outputs": [
    {
     "data": {
      "text/html": [
       "<div>\n",
       "<style scoped>\n",
       "    .dataframe tbody tr th:only-of-type {\n",
       "        vertical-align: middle;\n",
       "    }\n",
       "\n",
       "    .dataframe tbody tr th {\n",
       "        vertical-align: top;\n",
       "    }\n",
       "\n",
       "    .dataframe thead tr th {\n",
       "        text-align: left;\n",
       "    }\n",
       "\n",
       "    .dataframe thead tr:last-of-type th {\n",
       "        text-align: right;\n",
       "    }\n",
       "</style>\n",
       "<table border=\"1\" class=\"dataframe\">\n",
       "  <thead>\n",
       "    <tr>\n",
       "      <th></th>\n",
       "      <th colspan=\"3\" halign=\"left\">order_number</th>\n",
       "      <th colspan=\"3\" halign=\"left\">days_since_prior_order</th>\n",
       "    </tr>\n",
       "    <tr>\n",
       "      <th></th>\n",
       "      <th>max</th>\n",
       "      <th>min</th>\n",
       "      <th>mean</th>\n",
       "      <th>max</th>\n",
       "      <th>min</th>\n",
       "      <th>mean</th>\n",
       "    </tr>\n",
       "    <tr>\n",
       "      <th>user_id</th>\n",
       "      <th></th>\n",
       "      <th></th>\n",
       "      <th></th>\n",
       "      <th></th>\n",
       "      <th></th>\n",
       "      <th></th>\n",
       "    </tr>\n",
       "  </thead>\n",
       "  <tbody>\n",
       "    <tr>\n",
       "      <th>1</th>\n",
       "      <td>10</td>\n",
       "      <td>1</td>\n",
       "      <td>5.813559</td>\n",
       "      <td>30.0</td>\n",
       "      <td>0.0</td>\n",
       "      <td>20.259260</td>\n",
       "    </tr>\n",
       "    <tr>\n",
       "      <th>10</th>\n",
       "      <td>5</td>\n",
       "      <td>1</td>\n",
       "      <td>3.223776</td>\n",
       "      <td>30.0</td>\n",
       "      <td>12.0</td>\n",
       "      <td>20.746376</td>\n",
       "    </tr>\n",
       "    <tr>\n",
       "      <th>100</th>\n",
       "      <td>5</td>\n",
       "      <td>1</td>\n",
       "      <td>3.555556</td>\n",
       "      <td>30.0</td>\n",
       "      <td>18.0</td>\n",
       "      <td>26.320000</td>\n",
       "    </tr>\n",
       "    <tr>\n",
       "      <th>1000</th>\n",
       "      <td>7</td>\n",
       "      <td>1</td>\n",
       "      <td>3.980583</td>\n",
       "      <td>30.0</td>\n",
       "      <td>5.0</td>\n",
       "      <td>11.647727</td>\n",
       "    </tr>\n",
       "    <tr>\n",
       "      <th>10000</th>\n",
       "      <td>72</td>\n",
       "      <td>1</td>\n",
       "      <td>35.973443</td>\n",
       "      <td>17.0</td>\n",
       "      <td>0.0</td>\n",
       "      <td>4.949580</td>\n",
       "    </tr>\n",
       "    <tr>\n",
       "      <th>...</th>\n",
       "      <td>...</td>\n",
       "      <td>...</td>\n",
       "      <td>...</td>\n",
       "      <td>...</td>\n",
       "      <td>...</td>\n",
       "      <td>...</td>\n",
       "    </tr>\n",
       "    <tr>\n",
       "      <th>99994</th>\n",
       "      <td>11</td>\n",
       "      <td>1</td>\n",
       "      <td>6.042683</td>\n",
       "      <td>30.0</td>\n",
       "      <td>5.0</td>\n",
       "      <td>19.144737</td>\n",
       "    </tr>\n",
       "    <tr>\n",
       "      <th>99995</th>\n",
       "      <td>5</td>\n",
       "      <td>1</td>\n",
       "      <td>3.480000</td>\n",
       "      <td>30.0</td>\n",
       "      <td>6.0</td>\n",
       "      <td>16.086956</td>\n",
       "    </tr>\n",
       "    <tr>\n",
       "      <th>99996</th>\n",
       "      <td>12</td>\n",
       "      <td>1</td>\n",
       "      <td>5.898438</td>\n",
       "      <td>30.0</td>\n",
       "      <td>15.0</td>\n",
       "      <td>21.672413</td>\n",
       "    </tr>\n",
       "    <tr>\n",
       "      <th>99998</th>\n",
       "      <td>5</td>\n",
       "      <td>1</td>\n",
       "      <td>3.285714</td>\n",
       "      <td>12.0</td>\n",
       "      <td>7.0</td>\n",
       "      <td>8.842105</td>\n",
       "    </tr>\n",
       "    <tr>\n",
       "      <th>99999</th>\n",
       "      <td>34</td>\n",
       "      <td>1</td>\n",
       "      <td>16.565350</td>\n",
       "      <td>24.0</td>\n",
       "      <td>1.0</td>\n",
       "      <td>7.638365</td>\n",
       "    </tr>\n",
       "  </tbody>\n",
       "</table>\n",
       "<p>162631 rows × 6 columns</p>\n",
       "</div>"
      ],
      "text/plain": [
       "        order_number                days_since_prior_order                 \n",
       "                 max min       mean                    max   min       mean\n",
       "user_id                                                                    \n",
       "1                 10   1   5.813559                   30.0   0.0  20.259260\n",
       "10                 5   1   3.223776                   30.0  12.0  20.746376\n",
       "100                5   1   3.555556                   30.0  18.0  26.320000\n",
       "1000               7   1   3.980583                   30.0   5.0  11.647727\n",
       "10000             72   1  35.973443                   17.0   0.0   4.949580\n",
       "...              ...  ..        ...                    ...   ...        ...\n",
       "99994             11   1   6.042683                   30.0   5.0  19.144737\n",
       "99995              5   1   3.480000                   30.0   6.0  16.086956\n",
       "99996             12   1   5.898438                   30.0  15.0  21.672413\n",
       "99998              5   1   3.285714                   12.0   7.0   8.842105\n",
       "99999             34   1  16.565350                   24.0   1.0   7.638365\n",
       "\n",
       "[162631 rows x 6 columns]"
      ]
     },
     "execution_count": 259,
     "metadata": {},
     "output_type": "execute_result"
    }
   ],
   "source": [
    "freq_aggregate"
   ]
  },
  {
   "cell_type": "markdown",
   "id": "e6770c4e-01f8-4ccc-9750-ee1f33e469e9",
   "metadata": {},
   "source": [
    "# 8. Compare your customer profiles with regions and departments"
   ]
  },
  {
   "cell_type": "code",
   "execution_count": 216,
   "id": "f15e5798-23e3-4c0a-a5c5-b39e3cc67e85",
   "metadata": {},
   "outputs": [
    {
     "data": {
      "text/html": [
       "<div>\n",
       "<style scoped>\n",
       "    .dataframe tbody tr th:only-of-type {\n",
       "        vertical-align: middle;\n",
       "    }\n",
       "\n",
       "    .dataframe tbody tr th {\n",
       "        vertical-align: top;\n",
       "    }\n",
       "\n",
       "    .dataframe thead th {\n",
       "        text-align: right;\n",
       "    }\n",
       "</style>\n",
       "<table border=\"1\" class=\"dataframe\">\n",
       "  <thead>\n",
       "    <tr style=\"text-align: right;\">\n",
       "      <th>department</th>\n",
       "      <th>alcohol</th>\n",
       "      <th>babies</th>\n",
       "      <th>bakery</th>\n",
       "      <th>beverages</th>\n",
       "      <th>breakfast</th>\n",
       "      <th>bulk</th>\n",
       "      <th>canned goods</th>\n",
       "      <th>dairy eggs</th>\n",
       "      <th>deli</th>\n",
       "      <th>dry goods pasta</th>\n",
       "      <th>...</th>\n",
       "      <th>household</th>\n",
       "      <th>international</th>\n",
       "      <th>meat seafood</th>\n",
       "      <th>missing</th>\n",
       "      <th>other</th>\n",
       "      <th>pantry</th>\n",
       "      <th>personal care</th>\n",
       "      <th>pets</th>\n",
       "      <th>produce</th>\n",
       "      <th>snacks</th>\n",
       "    </tr>\n",
       "    <tr>\n",
       "      <th>Region</th>\n",
       "      <th></th>\n",
       "      <th></th>\n",
       "      <th></th>\n",
       "      <th></th>\n",
       "      <th></th>\n",
       "      <th></th>\n",
       "      <th></th>\n",
       "      <th></th>\n",
       "      <th></th>\n",
       "      <th></th>\n",
       "      <th></th>\n",
       "      <th></th>\n",
       "      <th></th>\n",
       "      <th></th>\n",
       "      <th></th>\n",
       "      <th></th>\n",
       "      <th></th>\n",
       "      <th></th>\n",
       "      <th></th>\n",
       "      <th></th>\n",
       "      <th></th>\n",
       "    </tr>\n",
       "  </thead>\n",
       "  <tbody>\n",
       "    <tr>\n",
       "      <th>Midwest</th>\n",
       "      <td>34043</td>\n",
       "      <td>95741</td>\n",
       "      <td>261753</td>\n",
       "      <td>598979</td>\n",
       "      <td>156155</td>\n",
       "      <td>7929</td>\n",
       "      <td>237459</td>\n",
       "      <td>1212490</td>\n",
       "      <td>234464</td>\n",
       "      <td>193463</td>\n",
       "      <td>...</td>\n",
       "      <td>166992</td>\n",
       "      <td>60666</td>\n",
       "      <td>158260</td>\n",
       "      <td>15563</td>\n",
       "      <td>7983</td>\n",
       "      <td>420334</td>\n",
       "      <td>100398</td>\n",
       "      <td>21358</td>\n",
       "      <td>2134115</td>\n",
       "      <td>645143</td>\n",
       "    </tr>\n",
       "    <tr>\n",
       "      <th>Northeast</th>\n",
       "      <td>25017</td>\n",
       "      <td>72712</td>\n",
       "      <td>199300</td>\n",
       "      <td>462929</td>\n",
       "      <td>117904</td>\n",
       "      <td>5599</td>\n",
       "      <td>176936</td>\n",
       "      <td>914616</td>\n",
       "      <td>178398</td>\n",
       "      <td>143817</td>\n",
       "      <td>...</td>\n",
       "      <td>124604</td>\n",
       "      <td>44678</td>\n",
       "      <td>118571</td>\n",
       "      <td>11512</td>\n",
       "      <td>6268</td>\n",
       "      <td>312731</td>\n",
       "      <td>74765</td>\n",
       "      <td>17734</td>\n",
       "      <td>1593004</td>\n",
       "      <td>493154</td>\n",
       "    </tr>\n",
       "    <tr>\n",
       "      <th>South</th>\n",
       "      <td>48813</td>\n",
       "      <td>139511</td>\n",
       "      <td>371620</td>\n",
       "      <td>859419</td>\n",
       "      <td>223172</td>\n",
       "      <td>11180</td>\n",
       "      <td>337458</td>\n",
       "      <td>1723016</td>\n",
       "      <td>333620</td>\n",
       "      <td>272813</td>\n",
       "      <td>...</td>\n",
       "      <td>230061</td>\n",
       "      <td>84649</td>\n",
       "      <td>224120</td>\n",
       "      <td>21787</td>\n",
       "      <td>11579</td>\n",
       "      <td>591754</td>\n",
       "      <td>142496</td>\n",
       "      <td>29909</td>\n",
       "      <td>3027476</td>\n",
       "      <td>916780</td>\n",
       "    </tr>\n",
       "    <tr>\n",
       "      <th>West</th>\n",
       "      <td>36754</td>\n",
       "      <td>102428</td>\n",
       "      <td>288155</td>\n",
       "      <td>650574</td>\n",
       "      <td>173619</td>\n",
       "      <td>8743</td>\n",
       "      <td>260221</td>\n",
       "      <td>1327060</td>\n",
       "      <td>257352</td>\n",
       "      <td>212043</td>\n",
       "      <td>...</td>\n",
       "      <td>178200</td>\n",
       "      <td>65998</td>\n",
       "      <td>173830</td>\n",
       "      <td>15906</td>\n",
       "      <td>8581</td>\n",
       "      <td>457886</td>\n",
       "      <td>106647</td>\n",
       "      <td>24059</td>\n",
       "      <td>2324678</td>\n",
       "      <td>711329</td>\n",
       "    </tr>\n",
       "  </tbody>\n",
       "</table>\n",
       "<p>4 rows × 21 columns</p>\n",
       "</div>"
      ],
      "text/plain": [
       "department  alcohol  babies  bakery  beverages  breakfast   bulk  \\\n",
       "Region                                                             \n",
       "Midwest       34043   95741  261753     598979     156155   7929   \n",
       "Northeast     25017   72712  199300     462929     117904   5599   \n",
       "South         48813  139511  371620     859419     223172  11180   \n",
       "West          36754  102428  288155     650574     173619   8743   \n",
       "\n",
       "department  canned goods  dairy eggs    deli  dry goods pasta  ...  household  \\\n",
       "Region                                                         ...              \n",
       "Midwest           237459     1212490  234464           193463  ...     166992   \n",
       "Northeast         176936      914616  178398           143817  ...     124604   \n",
       "South             337458     1723016  333620           272813  ...     230061   \n",
       "West              260221     1327060  257352           212043  ...     178200   \n",
       "\n",
       "department  international  meat seafood  missing  other  pantry  \\\n",
       "Region                                                            \n",
       "Midwest             60666        158260    15563   7983  420334   \n",
       "Northeast           44678        118571    11512   6268  312731   \n",
       "South               84649        224120    21787  11579  591754   \n",
       "West                65998        173830    15906   8581  457886   \n",
       "\n",
       "department  personal care   pets  produce  snacks  \n",
       "Region                                             \n",
       "Midwest            100398  21358  2134115  645143  \n",
       "Northeast           74765  17734  1593004  493154  \n",
       "South              142496  29909  3027476  916780  \n",
       "West               106647  24059  2324678  711329  \n",
       "\n",
       "[4 rows x 21 columns]"
      ]
     },
     "execution_count": 216,
     "metadata": {},
     "output_type": "execute_result"
    }
   ],
   "source": [
    "# crosstab region vs department\n",
    "region_dept = pd.crosstab(df_final['Region'], df_final['department'], dropna = False)\n",
    "region_dept"
   ]
  },
  {
   "cell_type": "code",
   "execution_count": 217,
   "id": "4f909b02-7704-44d0-aa36-c5768cd320d7",
   "metadata": {},
   "outputs": [
    {
     "data": {
      "text/plain": [
       "Text(0, 0.5, 'region')"
      ]
     },
     "execution_count": 217,
     "metadata": {},
     "output_type": "execute_result"
    },
    {
     "data": {
      "image/png": "[encoded data removed]",
      "text/plain": [
       "<Figure size 1400x1000 with 1 Axes>"
      ]
     },
     "metadata": {},
     "output_type": "display_data"
    }
   ],
   "source": [
    "# bar chart\n",
    "region_dept_bar = region_dept.plot(kind = 'barh', figsize=(14,10))\n",
    "plt.title('Department Sales by Region')\n",
    "plt.xlabel('products count')\n",
    "plt.ylabel('region')\n"
   ]
  },
  {
   "cell_type": "code",
   "execution_count": 218,
   "id": "968e085c-ad07-4844-9c44-05c5100a130b",
   "metadata": {},
   "outputs": [],
   "source": [
    "# Export bar chart\n",
    "region_dept_bar.figure.savefig(os.path.join(path, '04 Analysis','Visualizations', 'region_dept_bar.png'))"
   ]
  },
  {
   "cell_type": "code",
   "execution_count": 274,
   "id": "d4dd21ba-bccd-412d-bd84-f0363031bfcc",
   "metadata": {},
   "outputs": [],
   "source": [
    "# Import departments dataframe\n",
    "df_deps = pd.read_csv(os.path.join(path, '02 Data', 'Prepared Data', 'departments_wrangled.csv'))"
   ]
  },
  {
   "cell_type": "code",
   "execution_count": 165,
   "id": "4dcf11ab-00cd-414e-8bcb-a3a09663dcfe",
   "metadata": {},
   "outputs": [
    {
     "data": {
      "text/html": [
       "<div>\n",
       "<style scoped>\n",
       "    .dataframe tbody tr th:only-of-type {\n",
       "        vertical-align: middle;\n",
       "    }\n",
       "\n",
       "    .dataframe tbody tr th {\n",
       "        vertical-align: top;\n",
       "    }\n",
       "\n",
       "    .dataframe thead th {\n",
       "        text-align: right;\n",
       "    }\n",
       "</style>\n",
       "<table border=\"1\" class=\"dataframe\">\n",
       "  <thead>\n",
       "    <tr style=\"text-align: right;\">\n",
       "      <th></th>\n",
       "      <th>Unnamed: 0</th>\n",
       "      <th>department</th>\n",
       "    </tr>\n",
       "  </thead>\n",
       "  <tbody>\n",
       "    <tr>\n",
       "      <th>0</th>\n",
       "      <td>1</td>\n",
       "      <td>frozen</td>\n",
       "    </tr>\n",
       "    <tr>\n",
       "      <th>1</th>\n",
       "      <td>2</td>\n",
       "      <td>other</td>\n",
       "    </tr>\n",
       "    <tr>\n",
       "      <th>2</th>\n",
       "      <td>3</td>\n",
       "      <td>bakery</td>\n",
       "    </tr>\n",
       "    <tr>\n",
       "      <th>3</th>\n",
       "      <td>4</td>\n",
       "      <td>produce</td>\n",
       "    </tr>\n",
       "    <tr>\n",
       "      <th>4</th>\n",
       "      <td>5</td>\n",
       "      <td>alcohol</td>\n",
       "    </tr>\n",
       "    <tr>\n",
       "      <th>5</th>\n",
       "      <td>6</td>\n",
       "      <td>international</td>\n",
       "    </tr>\n",
       "    <tr>\n",
       "      <th>6</th>\n",
       "      <td>7</td>\n",
       "      <td>beverages</td>\n",
       "    </tr>\n",
       "    <tr>\n",
       "      <th>7</th>\n",
       "      <td>8</td>\n",
       "      <td>pets</td>\n",
       "    </tr>\n",
       "    <tr>\n",
       "      <th>8</th>\n",
       "      <td>9</td>\n",
       "      <td>dry goods pasta</td>\n",
       "    </tr>\n",
       "    <tr>\n",
       "      <th>9</th>\n",
       "      <td>10</td>\n",
       "      <td>bulk</td>\n",
       "    </tr>\n",
       "    <tr>\n",
       "      <th>10</th>\n",
       "      <td>11</td>\n",
       "      <td>personal care</td>\n",
       "    </tr>\n",
       "    <tr>\n",
       "      <th>11</th>\n",
       "      <td>12</td>\n",
       "      <td>meat seafood</td>\n",
       "    </tr>\n",
       "    <tr>\n",
       "      <th>12</th>\n",
       "      <td>13</td>\n",
       "      <td>pantry</td>\n",
       "    </tr>\n",
       "    <tr>\n",
       "      <th>13</th>\n",
       "      <td>14</td>\n",
       "      <td>breakfast</td>\n",
       "    </tr>\n",
       "    <tr>\n",
       "      <th>14</th>\n",
       "      <td>15</td>\n",
       "      <td>canned goods</td>\n",
       "    </tr>\n",
       "    <tr>\n",
       "      <th>15</th>\n",
       "      <td>16</td>\n",
       "      <td>dairy eggs</td>\n",
       "    </tr>\n",
       "    <tr>\n",
       "      <th>16</th>\n",
       "      <td>17</td>\n",
       "      <td>household</td>\n",
       "    </tr>\n",
       "    <tr>\n",
       "      <th>17</th>\n",
       "      <td>18</td>\n",
       "      <td>babies</td>\n",
       "    </tr>\n",
       "    <tr>\n",
       "      <th>18</th>\n",
       "      <td>19</td>\n",
       "      <td>snacks</td>\n",
       "    </tr>\n",
       "    <tr>\n",
       "      <th>19</th>\n",
       "      <td>20</td>\n",
       "      <td>deli</td>\n",
       "    </tr>\n",
       "    <tr>\n",
       "      <th>20</th>\n",
       "      <td>21</td>\n",
       "      <td>missing</td>\n",
       "    </tr>\n",
       "  </tbody>\n",
       "</table>\n",
       "</div>"
      ],
      "text/plain": [
       "    Unnamed: 0       department\n",
       "0            1           frozen\n",
       "1            2            other\n",
       "2            3           bakery\n",
       "3            4          produce\n",
       "4            5          alcohol\n",
       "5            6    international\n",
       "6            7        beverages\n",
       "7            8             pets\n",
       "8            9  dry goods pasta\n",
       "9           10             bulk\n",
       "10          11    personal care\n",
       "11          12     meat seafood\n",
       "12          13           pantry\n",
       "13          14        breakfast\n",
       "14          15     canned goods\n",
       "15          16       dairy eggs\n",
       "16          17        household\n",
       "17          18           babies\n",
       "18          19           snacks\n",
       "19          20             deli\n",
       "20          21          missing"
      ]
     },
     "execution_count": 165,
     "metadata": {},
     "output_type": "execute_result"
    }
   ],
   "source": [
    "df_deps"
   ]
  },
  {
   "cell_type": "code",
   "execution_count": 208,
   "id": "618c5933-5dc7-43ce-a9cd-806a5376fd35",
   "metadata": {},
   "outputs": [],
   "source": [
    "df_deps.rename(columns={'Unnamed: 0': 'department_id'}, inplace=True)"
   ]
  },
  {
   "cell_type": "code",
   "execution_count": 211,
   "id": "5372d904-97ea-4972-968f-91f07d5a6a84",
   "metadata": {},
   "outputs": [],
   "source": [
    " df_final= filtered_df.merge(df_deps, on='department_id', indicator='merged')"
   ]
  },
  {
   "cell_type": "code",
   "execution_count": 213,
   "id": "67d0a612-8133-4f13-9052-0083f6651dd7",
   "metadata": {},
   "outputs": [
    {
     "data": {
      "text/plain": [
       "merged\n",
       "both          30964564\n",
       "left_only            0\n",
       "right_only           0\n",
       "Name: count, dtype: int64"
      ]
     },
     "execution_count": 213,
     "metadata": {},
     "output_type": "execute_result"
    }
   ],
   "source": [
    "df_final['merged'].value_counts()"
   ]
  },
  {
   "cell_type": "code",
   "execution_count": 214,
   "id": "66c4d0de-b051-4b55-9158-34d26a5d2ad1",
   "metadata": {},
   "outputs": [],
   "source": [
    "# Exporting new dataframe with department merged \n",
    "df_final.to_pickle(os.path.join(path,'02 Data','Prepared Data','df_final.pkl'))"
   ]
  }
 ],
 "metadata": {
  "kernelspec": {
   "display_name": "Python 3.12",
   "language": "python",
   "name": "python3.12"
  },
  "language_info": {
   "codemirror_mode": {
    "name": "ipython",
    "version": 3
   },
   "file_extension": ".py",
   "mimetype": "text/x-python",
   "name": "python",
   "nbconvert_exporter": "python",
   "pygments_lexer": "ipython3",
   "version": "3.12.7"
  }
 },
 "nbformat": 4,
 "nbformat_minor": 5
}
